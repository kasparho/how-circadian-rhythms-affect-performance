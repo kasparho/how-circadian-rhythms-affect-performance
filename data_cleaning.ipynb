{
 "cells": [
  {
   "cell_type": "code",
   "execution_count": 17,
   "metadata": {},
   "outputs": [],
   "source": [
    "from matplotlib import pyplot as plt\n",
    "import pandas as pd\n",
    "import numpy as np\n",
    "%matplotlib inline"
   ]
  },
  {
   "cell_type": "markdown",
   "metadata": {},
   "source": [
    "### Import data"
   ]
  },
  {
   "cell_type": "code",
   "execution_count": 18,
   "metadata": {
    "lines_to_next_cell": 2.0
   },
   "outputs": [],
   "source": [
    "## Defined functions\n",
    "\n",
    "def convert_drugs(value):\n",
    "    \"\"\"\n",
    "    Clean up weird values for drugs text box\n",
    "    :param value: value to convert\n",
    "    :return: categegorical value\n",
    "    \"\"\"\n",
    "    if value == \"Caffeine (energy drinks/coffee)\" or \\\n",
    "        value == \"Caffeine (energy drinks/coffee), Kohvi on elu, kohvi on armastus :) \" or \\\n",
    "        value == \"Herbal tea\" or value == 'herbal tea' or value == \"tee\":\n",
    "        return \"Caffeine\"\n",
    "    elif value.startswith(\"Ei\") or value == \"No\" or value == \"no\" or value == \"food\" or value == \"sweets\":\n",
    "        return \"No\"\n",
    "    return value\n",
    "\n",
    "def merge_ids(id, *other_ids):\n",
    "    for other_id in other_ids:\n",
    "        common[\"user_id\"].loc[common[\"user_id\"] == other_id] = id\n",
    "        general[\"user_id\"].loc[general[\"user_id\"] == other_id] = id\n"
   ]
  },
  {
   "cell_type": "code",
   "execution_count": 19,
   "metadata": {},
   "outputs": [],
   "source": [
    "## Read data in\n",
    "\n",
    "general = pd.read_csv(\"out_general.csv\", names=[\"row\", \"ts\", \"user_id\", \"gender\", \"age\", \"prev_test\", \"pys_activity\", \"sick\", \"pain_general\", \"pain_digest\", \"sleep_regular\"], \n",
    "                     usecols=[\"user_id\", \"gender\", \"age\", \"prev_test\", \"pys_activity\", \"sick\", \"pain_general\", \"pain_digest\", \"sleep_regular\"], \n",
    "                     header=0, \n",
    "                     dtype={'gender':'category', \n",
    "                            'age':'category', \n",
    "                            'prev_test':'category', \n",
    "                            'pys_activity':'category', \n",
    "                            'sick':'category', \n",
    "                            'pain_general':'category', \n",
    "                            'pain_digest':'category', \n",
    "                            'sleep_regular':'category'\n",
    "                           })\n",
    "common = pd.read_csv(\"out_common.csv\", names=[\"ts\", \"user_id\", \"res_number\", \"res_reaction\", \"res_visual\", \"hungry\", \"sleepy\", \"time_sleep\", \"time_wake\", \"stress\",\n",
    "                                              \"fatigue_mental\", \"fatigue_physical\", \"drugs\"], header=0, \n",
    "                     converters={'ts':lambda v: pd.Timestamp(v), \n",
    "                                 'time_sleep':lambda v: pd.to_timedelta(v), \n",
    "                                 'time_wake':lambda v: pd.to_timedelta(v),\n",
    "                                 'drugs': convert_drugs},\n",
    "                     dtype={'hungry':'category', \n",
    "                            'sleepy':'category', \n",
    "                            'stress':'category', \n",
    "                            'fatigue_mental':'category', \n",
    "                            'fatigue_physical':'category'})\n",
    "\n",
    "common[\"drugs\"] = common[\"drugs\"].astype('category')"
   ]
  },
  {
   "cell_type": "code",
   "execution_count": 13,
   "metadata": {},
   "outputs": [
    {
     "data": {
      "text/plain": [
       "True"
      ]
     },
     "execution_count": 13,
     "metadata": {},
     "output_type": "execute_result"
    }
   ],
   "source": [
    "any(common.user_id == 1)"
   ]
  },
  {
   "cell_type": "code",
   "execution_count": 20,
   "metadata": {
    "lines_to_next_cell": 2.0
   },
   "outputs": [],
   "source": [
    "## User related modifications\n",
    "\n",
    "## Alter user_ids\n",
    "pd.set_option(\"mode.chained_assignment\", None)\n",
    "\n",
    "merge_ids(1, 29, 33, 34, 36)\n",
    "merge_ids(35, 37)\n",
    "merge_ids(13, 4, 7)\n",
    "merge_ids(17, 41)\n",
    "merge_ids(10, 38)\n",
    "\n",
    "## Delete not suitable users\n",
    "\n",
    "## Based on user_id\n",
    "\n",
    "common = common[\n",
    "    (common[\"user_id\"] != 9) &\n",
    "    (common[\"user_id\"] != 10) &\n",
    "    (common[\"user_id\"] != 14) &\n",
    "    (common[\"user_id\"] != 18) &\n",
    "    (common[\"user_id\"] != 30) &\n",
    "    (common[\"user_id\"] != 31)\n",
    "    ]\n",
    "\n",
    "## Based on stress levels\n",
    "\n",
    "common = common[\n",
    "    (common[\"stress\"] != '4') &\n",
    "    (common[\"stress\"] != '5')\n",
    "    ]\n",
    "\n",
    "## Sick people\n",
    "\n",
    "sick_subjects_ids = np.array(general.loc[general[\"sick\"] == \"Yes\", [\"user_id\"]].values.tolist()).flatten().tolist()\n",
    "\n",
    "for usr_id in sick_subjects_ids:\n",
    "    common = common[common[\"user_id\"] != usr_id]"
   ]
  },
  {
   "cell_type": "markdown",
   "metadata": {},
   "source": [
    "### Add times from waking up"
   ]
  },
  {
   "cell_type": "code",
   "execution_count": 68,
   "metadata": {},
   "outputs": [
    {
     "data": {
      "text/plain": [
       "Index(['1', '2', '3', '4', '5'], dtype='object')"
      ]
     },
     "execution_count": 68,
     "metadata": {},
     "output_type": "execute_result"
    }
   ],
   "source": [
    "common[\"stress\"].cat.categories"
   ]
  },
  {
   "cell_type": "code",
   "execution_count": null,
   "metadata": {},
   "outputs": [],
   "source": [
    "common[\"drugs\"].value_counts()"
   ]
  },
  {
   "cell_type": "code",
   "execution_count": 27,
   "metadata": {},
   "outputs": [],
   "source": [
    "## Too few rows of hungry level 4 and 5 to draw conclusions \n",
    "\n",
    "hungry_level_1 = \\\n",
    "    common.loc[common[\"hungry\"] == '1', [\"res_number\", \"res_reaction\", \"res_visual\"]]\n",
    "hungry_level_2 = \\\n",
    "    common.loc[common[\"hungry\"] == '2', [\"res_number\", \"res_reaction\", \"res_visual\"]]\n",
    "hungry_level_3 = \\\n",
    "    common.loc[common[\"hungry\"] == '3', [\"res_number\", \"res_reaction\", \"res_visual\"]]\n",
    "hungry_level_4 = \\\n",
    "    common.loc[common[\"hungry\"] == '4', [\"res_number\", \"res_reaction\", \"res_visual\"]]\n",
    "hungry_level_5 = \\\n",
    "    common.loc[common[\"hungry\"] == '5', [\"res_number\", \"res_reaction\", \"res_visual\"]]\n",
    "\n",
    "grouped_hungry_subjects = \\\n",
    "    common[[\"user_id\", \"hungry\", \"res_number\", \"res_visual\", \"res_reaction\"]]\\\n",
    "        .groupby([\"user_id\", \"hungry\"]).mean()\\\n",
    "        .groupby(\"hungry\").mean()"
   ]
  },
  {
   "cell_type": "code",
   "execution_count": 23,
   "metadata": {
    "scrolled": true
   },
   "outputs": [],
   "source": [
    "def draw_bar_plot(plot, title, x_axis_list, y_axis_list):\n",
    "    plot.set_title(title)\n",
    "\n",
    "    for i in range(0, len(x_axis_list)):\n",
    "        plot.bar(x_axis_list[i], y_axis_list[i], align = \"center\")\n"
   ]
  },
  {
   "cell_type": "code",
   "execution_count": 28,
   "metadata": {},
   "outputs": [
    {
     "data": {
      "image/png": "[encoded data removed]",
      "text/plain": [
       "<Figure size 1008x324 with 3 Axes>"
      ]
     },
     "metadata": {},
     "output_type": "display_data"
    }
   ],
   "source": [
    "## Average results over all entries\n",
    "\n",
    "fig, (plt1, plt2, plt3) = plt.subplots(1, 3, figsize = (14, 4.5)) \n",
    "\n",
    "draw_bar_plot(plt1, \"res_number\", ['1', '2', '3', '4', '5'], [\n",
    "    round(hungry_level_1[\"res_number\"].mean(), 2), \n",
    "    round(hungry_level_2[\"res_number\"].mean(), 2),\n",
    "    round(hungry_level_3[\"res_number\"].mean(), 2),\n",
    "    round(hungry_level_4[\"res_number\"].mean(), 2),\n",
    "    round(hungry_level_5[\"res_number\"].mean(), 2)\n",
    "    ])\n",
    "\n",
    "draw_bar_plot(plt2, \"res_reaction\", ['1', '2', '3', '4', '5'], [\n",
    "    round(hungry_level_1[\"res_reaction\"].mean(), 2), \n",
    "    round(hungry_level_2[\"res_reaction\"].mean(), 2),\n",
    "    round(hungry_level_3[\"res_reaction\"].mean(), 2),\n",
    "    round(hungry_level_4[\"res_reaction\"].mean(), 2),\n",
    "    round(hungry_level_5[\"res_reaction\"].mean(), 2)\n",
    "    ])\n",
    "\n",
    "draw_bar_plot(plt3, \"res_visual\", ['1', '2', '3', '4', '5'], [\n",
    "    round(hungry_level_1[\"res_visual\"].mean(), 2), \n",
    "    round(hungry_level_2[\"res_visual\"].mean(), 2),\n",
    "    round(hungry_level_3[\"res_visual\"].mean(), 2),\n",
    "    round(hungry_level_4[\"res_visual\"].mean(), 2),\n",
    "    round(hungry_level_5[\"res_visual\"].mean(), 2)\n",
    "    ])"
   ]
  },
  {
   "cell_type": "code",
   "execution_count": 29,
   "metadata": {},
   "outputs": [
    {
     "data": {
      "image/png": "[encoded data removed]",
      "text/plain": [
       "<Figure size 1008x324 with 3 Axes>"
      ]
     },
     "metadata": {},
     "output_type": "display_data"
    }
   ],
   "source": [
    "## Average results of averaged subjects results\n",
    "\n",
    "fig, (plt1, plt2, plt3) = plt.subplots(1, 3, figsize = (14, 4.5)) \n",
    "\n",
    "draw_bar_plot(plt1, \"res_number\", ['1', '2', '3', '4', '5'], [\n",
    "    grouped_hungry_subjects[\"res_number\"][0], \n",
    "    grouped_hungry_subjects[\"res_number\"][1],\n",
    "    grouped_hungry_subjects[\"res_number\"][2],\n",
    "    grouped_hungry_subjects[\"res_number\"][3],\n",
    "    grouped_hungry_subjects[\"res_number\"][4]\n",
    "    ])\n",
    "\n",
    "draw_bar_plot(plt2, \"res_reaction\", ['1', '2', '3', '4', '5'], [\n",
    "    grouped_hungry_subjects[\"res_reaction\"][0], \n",
    "    grouped_hungry_subjects[\"res_reaction\"][1],\n",
    "    grouped_hungry_subjects[\"res_reaction\"][2],\n",
    "    grouped_hungry_subjects[\"res_reaction\"][3],\n",
    "    grouped_hungry_subjects[\"res_reaction\"][4]\n",
    "    ])\n",
    "\n",
    "draw_bar_plot(plt3, \"res_visual\", ['1', '2', '3', '4', '5'], [\n",
    "    grouped_hungry_subjects[\"res_visual\"][0], \n",
    "    grouped_hungry_subjects[\"res_visual\"][1],\n",
    "    grouped_hungry_subjects[\"res_visual\"][2],\n",
    "    grouped_hungry_subjects[\"res_visual\"][3],\n",
    "    grouped_hungry_subjects[\"res_visual\"][4]\n",
    "    ])"
   ]
  },
  {
   "cell_type": "markdown",
   "metadata": {
    "lines_to_next_cell": 2.0
   },
   "source": [
    "## Add time from wakeup"
   ]
  },
  {
   "cell_type": "code",
   "execution_count": 29,
   "metadata": {
    "lines_to_next_cell": 2.0
   },
   "outputs": [],
   "source": [
    "import statsmodels.api as sm\n",
    "from statsmodels.formula.api import ols"
   ]
  },
  {
   "cell_type": "code",
   "execution_count": 30,
   "metadata": {},
   "outputs": [],
   "source": [
    "ts_wake = common.ts.apply(lambda x: x.replace(hour=0, minute=0, second=0)) + common.time_wake\n",
    "delta = (common.ts - ts_wake) # TODO minus deltas\n",
    "common[\"awake_delta\"] = delta  / np.timedelta64(1, 's')"
   ]
  },
  {
   "cell_type": "code",
   "execution_count": 31,
   "metadata": {},
   "outputs": [
    {
     "name": "stderr",
     "output_type": "stream",
     "text": [
      "C:\\Users\\Kaspar\\Miniconda3\\lib\\site-packages\\statsmodels\\base\\model.py:1100: RuntimeWarning: invalid value encountered in true_divide\n  return self.params / self.bse\nC:\\Users\\Kaspar\\Miniconda3\\lib\\site-packages\\scipy\\stats\\_distn_infrastructure.py:877: RuntimeWarning: invalid value encountered in greater\n  return (self.a < x) & (x < self.b)\nC:\\Users\\Kaspar\\Miniconda3\\lib\\site-packages\\scipy\\stats\\_distn_infrastructure.py:877: RuntimeWarning: invalid value encountered in less\n  return (self.a < x) & (x < self.b)\nC:\\Users\\Kaspar\\Miniconda3\\lib\\site-packages\\scipy\\stats\\_distn_infrastructure.py:1831: RuntimeWarning: invalid value encountered in less_equal\n  cond2 = cond0 & (x <= self.a)\n"
     ]
    },
    {
     "data": {
      "text/html": [
       "<table class=\"simpletable\">\n",
       "<caption>OLS Regression Results</caption>\n",
       "<tr>\n",
       "  <th>Dep. Variable:</th>       <td>res_number</td>    <th>  R-squared:         </th> <td>   0.031</td>\n",
       "</tr>\n",
       "<tr>\n",
       "  <th>Model:</th>                   <td>OLS</td>       <th>  Adj. R-squared:    </th> <td>  -0.029</td>\n",
       "</tr>\n",
       "<tr>\n",
       "  <th>Method:</th>             <td>Least Squares</td>  <th>  F-statistic:       </th> <td>  0.5149</td>\n",
       "</tr>\n",
       "<tr>\n",
       "  <th>Date:</th>             <td>Thu, 17 Jan 2019</td> <th>  Prob (F-statistic):</th>  <td> 0.904</td> \n",
       "</tr>\n",
       "<tr>\n",
       "  <th>Time:</th>                 <td>14:36:26</td>     <th>  Log-Likelihood:    </th> <td> -399.66</td>\n",
       "</tr>\n",
       "<tr>\n",
       "  <th>No. Observations:</th>      <td>   209</td>      <th>  AIC:               </th> <td>   825.3</td>\n",
       "</tr>\n",
       "<tr>\n",
       "  <th>Df Residuals:</th>          <td>   196</td>      <th>  BIC:               </th> <td>   868.8</td>\n",
       "</tr>\n",
       "<tr>\n",
       "  <th>Df Model:</th>              <td>    12</td>      <th>                     </th>     <td> </td>   \n",
       "</tr>\n",
       "<tr>\n",
       "  <th>Covariance Type:</th>      <td>nonrobust</td>    <th>                     </th>     <td> </td>   \n",
       "</tr>\n",
       "</table>\n",
       "<table class=\"simpletable\">\n",
       "<tr>\n",
       "            <td></td>               <th>coef</th>     <th>std err</th>      <th>t</th>      <th>P>|t|</th>  <th>[0.025</th>    <th>0.975]</th>  \n",
       "</tr>\n",
       "<tr>\n",
       "  <th>Intercept</th>             <td>    8.6261</td> <td>    0.332</td> <td>   25.953</td> <td> 0.000</td> <td>    7.971</td> <td>    9.282</td>\n",
       "</tr>\n",
       "<tr>\n",
       "  <th>hungry[T.2]</th>           <td>   -0.1506</td> <td>    0.310</td> <td>   -0.486</td> <td> 0.627</td> <td>   -0.761</td> <td>    0.460</td>\n",
       "</tr>\n",
       "<tr>\n",
       "  <th>hungry[T.3]</th>           <td>    0.1946</td> <td>    0.398</td> <td>    0.489</td> <td> 0.626</td> <td>   -0.591</td> <td>    0.980</td>\n",
       "</tr>\n",
       "<tr>\n",
       "  <th>hungry[T.4]</th>           <td>    0.8933</td> <td>    0.510</td> <td>    1.752</td> <td> 0.081</td> <td>   -0.112</td> <td>    1.899</td>\n",
       "</tr>\n",
       "<tr>\n",
       "  <th>hungry[T.5]</th>           <td>    0.8963</td> <td>    1.717</td> <td>    0.522</td> <td> 0.602</td> <td>   -2.489</td> <td>    4.282</td>\n",
       "</tr>\n",
       "<tr>\n",
       "  <th>sleepy[T.2]</th>           <td>   -0.1876</td> <td>    0.393</td> <td>   -0.477</td> <td> 0.634</td> <td>   -0.963</td> <td>    0.587</td>\n",
       "</tr>\n",
       "<tr>\n",
       "  <th>sleepy[T.3]</th>           <td>   -0.0575</td> <td>    0.397</td> <td>   -0.145</td> <td> 0.885</td> <td>   -0.840</td> <td>    0.725</td>\n",
       "</tr>\n",
       "<tr>\n",
       "  <th>sleepy[T.4]</th>           <td>   -0.1137</td> <td>    0.416</td> <td>   -0.273</td> <td> 0.785</td> <td>   -0.935</td> <td>    0.707</td>\n",
       "</tr>\n",
       "<tr>\n",
       "  <th>sleepy[T.5]</th>           <td>   -0.0888</td> <td>    0.588</td> <td>   -0.151</td> <td> 0.880</td> <td>   -1.249</td> <td>    1.071</td>\n",
       "</tr>\n",
       "<tr>\n",
       "  <th>stress[T.2]</th>           <td>   -0.3239</td> <td>    0.273</td> <td>   -1.185</td> <td> 0.237</td> <td>   -0.863</td> <td>    0.215</td>\n",
       "</tr>\n",
       "<tr>\n",
       "  <th>stress[T.3]</th>           <td>   -0.1914</td> <td>    0.372</td> <td>   -0.514</td> <td> 0.608</td> <td>   -0.926</td> <td>    0.543</td>\n",
       "</tr>\n",
       "<tr>\n",
       "  <th>stress[T.4]</th>           <td> 2.022e-16</td> <td> 5.32e-17</td> <td>    3.801</td> <td> 0.000</td> <td> 9.73e-17</td> <td> 3.07e-16</td>\n",
       "</tr>\n",
       "<tr>\n",
       "  <th>stress[T.5]</th>           <td>         0</td> <td>        0</td> <td>      nan</td> <td>   nan</td> <td>        0</td> <td>        0</td>\n",
       "</tr>\n",
       "<tr>\n",
       "  <th>fatigue_mental[T.Yes]</th> <td>    0.2369</td> <td>    0.282</td> <td>    0.840</td> <td> 0.402</td> <td>   -0.319</td> <td>    0.793</td>\n",
       "</tr>\n",
       "<tr>\n",
       "  <th>awake_delta</th>           <td>-5.492e-07</td> <td> 5.48e-06</td> <td>   -0.100</td> <td> 0.920</td> <td>-1.14e-05</td> <td> 1.03e-05</td>\n",
       "</tr>\n",
       "</table>\n",
       "<table class=\"simpletable\">\n",
       "<tr>\n",
       "  <th>Omnibus:</th>       <td>12.455</td> <th>  Durbin-Watson:     </th> <td>   1.915</td>\n",
       "</tr>\n",
       "<tr>\n",
       "  <th>Prob(Omnibus):</th> <td> 0.002</td> <th>  Jarque-Bera (JB):  </th> <td>  19.392</td>\n",
       "</tr>\n",
       "<tr>\n",
       "  <th>Skew:</th>          <td>-0.351</td> <th>  Prob(JB):          </th> <td>6.15e-05</td>\n",
       "</tr>\n",
       "<tr>\n",
       "  <th>Kurtosis:</th>      <td> 4.317</td> <th>  Cond. No.          </th> <td>4.36e+22</td>\n",
       "</tr>\n",
       "</table><br/><br/>Warnings:<br/>[1] Standard Errors assume that the covariance matrix of the errors is correctly specified.<br/>[2] The smallest eigenvalue is 1.1e-34. This might indicate that there are<br/>strong multicollinearity problems or that the design matrix is singular."
      ],
      "text/plain": [
       "<table class=\"simpletable\">\n",
       "<caption>OLS Regression Results</caption>\n",
       "<tr>\n",
       "  <th>Dep. Variable:</th>       <td>res_number</td>    <th>  R-squared:         </th> <td>   0.031</td>\n",
       "</tr>\n",
       "<tr>\n",
       "  <th>Model:</th>                   <td>OLS</td>       <th>  Adj. R-squared:    </th> <td>  -0.029</td>\n",
       "</tr>\n",
       "<tr>\n",
       "  <th>Method:</th>             <td>Least Squares</td>  <th>  F-statistic:       </th> <td>  0.5149</td>\n",
       "</tr>\n",
       "<tr>\n",
       "  <th>Date:</th>             <td>Thu, 17 Jan 2019</td> <th>  Prob (F-statistic):</th>  <td> 0.904</td> \n",
       "</tr>\n",
       "<tr>\n",
       "  <th>Time:</th>                 <td>14:36:26</td>     <th>  Log-Likelihood:    </th> <td> -399.66</td>\n",
       "</tr>\n",
       "<tr>\n",
       "  <th>No. Observations:</th>      <td>   209</td>      <th>  AIC:               </th> <td>   825.3</td>\n",
       "</tr>\n",
       "<tr>\n",
       "  <th>Df Residuals:</th>          <td>   196</td>      <th>  BIC:               </th> <td>   868.8</td>\n",
       "</tr>\n",
       "<tr>\n",
       "  <th>Df Model:</th>              <td>    12</td>      <th>                     </th>     <td> </td>   \n",
       "</tr>\n",
       "<tr>\n",
       "  <th>Covariance Type:</th>      <td>nonrobust</td>    <th>                     </th>     <td> </td>   \n",
       "</tr>\n",
       "</table>\n",
       "<table class=\"simpletable\">\n",
       "<tr>\n",
       "            <td></td>               <th>coef</th>     <th>std err</th>      <th>t</th>      <th>P>|t|</th>  <th>[0.025</th>    <th>0.975]</th>  \n",
       "</tr>\n",
       "<tr>\n",
       "  <th>Intercept</th>             <td>    8.6261</td> <td>    0.332</td> <td>   25.953</td> <td> 0.000</td> <td>    7.971</td> <td>    9.282</td>\n",
       "</tr>\n",
       "<tr>\n",
       "  <th>hungry[T.2]</th>           <td>   -0.1506</td> <td>    0.310</td> <td>   -0.486</td> <td> 0.627</td> <td>   -0.761</td> <td>    0.460</td>\n",
       "</tr>\n",
       "<tr>\n",
       "  <th>hungry[T.3]</th>           <td>    0.1946</td> <td>    0.398</td> <td>    0.489</td> <td> 0.626</td> <td>   -0.591</td> <td>    0.980</td>\n",
       "</tr>\n",
       "<tr>\n",
       "  <th>hungry[T.4]</th>           <td>    0.8933</td> <td>    0.510</td> <td>    1.752</td> <td> 0.081</td> <td>   -0.112</td> <td>    1.899</td>\n",
       "</tr>\n",
       "<tr>\n",
       "  <th>hungry[T.5]</th>           <td>    0.8963</td> <td>    1.717</td> <td>    0.522</td> <td> 0.602</td> <td>   -2.489</td> <td>    4.282</td>\n",
       "</tr>\n",
       "<tr>\n",
       "  <th>sleepy[T.2]</th>           <td>   -0.1876</td> <td>    0.393</td> <td>   -0.477</td> <td> 0.634</td> <td>   -0.963</td> <td>    0.587</td>\n",
       "</tr>\n",
       "<tr>\n",
       "  <th>sleepy[T.3]</th>           <td>   -0.0575</td> <td>    0.397</td> <td>   -0.145</td> <td> 0.885</td> <td>   -0.840</td> <td>    0.725</td>\n",
       "</tr>\n",
       "<tr>\n",
       "  <th>sleepy[T.4]</th>           <td>   -0.1137</td> <td>    0.416</td> <td>   -0.273</td> <td> 0.785</td> <td>   -0.935</td> <td>    0.707</td>\n",
       "</tr>\n",
       "<tr>\n",
       "  <th>sleepy[T.5]</th>           <td>   -0.0888</td> <td>    0.588</td> <td>   -0.151</td> <td> 0.880</td> <td>   -1.249</td> <td>    1.071</td>\n",
       "</tr>\n",
       "<tr>\n",
       "  <th>stress[T.2]</th>           <td>   -0.3239</td> <td>    0.273</td> <td>   -1.185</td> <td> 0.237</td> <td>   -0.863</td> <td>    0.215</td>\n",
       "</tr>\n",
       "<tr>\n",
       "  <th>stress[T.3]</th>           <td>   -0.1914</td> <td>    0.372</td> <td>   -0.514</td> <td> 0.608</td> <td>   -0.926</td> <td>    0.543</td>\n",
       "</tr>\n",
       "<tr>\n",
       "  <th>stress[T.4]</th>           <td> 2.022e-16</td> <td> 5.32e-17</td> <td>    3.801</td> <td> 0.000</td> <td> 9.73e-17</td> <td> 3.07e-16</td>\n",
       "</tr>\n",
       "<tr>\n",
       "  <th>stress[T.5]</th>           <td>         0</td> <td>        0</td> <td>      nan</td> <td>   nan</td> <td>        0</td> <td>        0</td>\n",
       "</tr>\n",
       "<tr>\n",
       "  <th>fatigue_mental[T.Yes]</th> <td>    0.2369</td> <td>    0.282</td> <td>    0.840</td> <td> 0.402</td> <td>   -0.319</td> <td>    0.793</td>\n",
       "</tr>\n",
       "<tr>\n",
       "  <th>awake_delta</th>           <td>-5.492e-07</td> <td> 5.48e-06</td> <td>   -0.100</td> <td> 0.920</td> <td>-1.14e-05</td> <td> 1.03e-05</td>\n",
       "</tr>\n",
       "</table>\n",
       "<table class=\"simpletable\">\n",
       "<tr>\n",
       "  <th>Omnibus:</th>       <td>12.455</td> <th>  Durbin-Watson:     </th> <td>   1.915</td>\n",
       "</tr>\n",
       "<tr>\n",
       "  <th>Prob(Omnibus):</th> <td> 0.002</td> <th>  Jarque-Bera (JB):  </th> <td>  19.392</td>\n",
       "</tr>\n",
       "<tr>\n",
       "  <th>Skew:</th>          <td>-0.351</td> <th>  Prob(JB):          </th> <td>6.15e-05</td>\n",
       "</tr>\n",
       "<tr>\n",
       "  <th>Kurtosis:</th>      <td> 4.317</td> <th>  Cond. No.          </th> <td>4.36e+22</td>\n",
       "</tr>\n",
       "</table><br/><br/>Warnings:<br/>[1] Standard Errors assume that the covariance matrix of the errors is correctly specified.<br/>[2] The smallest eigenvalue is 1.1e-34. This might indicate that there are<br/>strong multicollinearity problems or that the design matrix is singular."
      ]
     },
     "execution_count": 31,
     "metadata": {},
     "output_type": "execute_result"
    }
   ],
   "source": [
    "model = ols(\"res_number ~ awake_delta + hungry + sleepy + stress + fatigue_mental\", common).fit()\n",
    "model.summary()"
   ]
  },
  {
   "cell_type": "code",
   "execution_count": 32,
   "metadata": {},
   "outputs": [
    {
     "name": "stderr",
     "output_type": "stream",
     "text": [
      "C:\\Users\\Kaspar\\Miniconda3\\lib\\site-packages\\matplotlib\\tight_layout.py:211: UserWarning: Tight layout not applied. tight_layout cannot make axes height small enough to accommodate all axes decorations\n  warnings.warn('Tight layout not applied. '\n"
     ]
    },
    {
     "data": {
      "image/png": "[encoded data removed]",
      "text/plain": [
       "<Figure size 432x288 with 16 Axes>"
      ]
     },
     "metadata": {},
     "output_type": "display_data"
    }
   ],
   "source": [
    "fig,plots  = plt.subplots(1,1)\n",
    "fig = sm.graphics.plot_partregress_grid(model, fig=fig)"
   ]
  },
  {
   "cell_type": "code",
   "execution_count": null,
   "metadata": {
    "lines_to_next_cell": 2.0
   },
   "outputs": [],
   "source": []
  }
 ],
 "metadata": {
  "jupytext": {
   "text_representation": {
    "extension": ".py",
    "format_name": "percent",
    "format_version": "1.1",
    "jupytext_version": "0.8.3"
   }
  },
  "kernelspec": {
   "display_name": "Python 3",
   "language": "python",
   "name": "python3"
  },
  "language_info": {
   "codemirror_mode": {
    "name": "ipython",
    "version": 3
   },
   "file_extension": ".py",
   "mimetype": "text/x-python",
   "name": "python",
   "nbconvert_exporter": "python",
   "pygments_lexer": "ipython3",
   "version": "3.5.4"
  }
 },
 "nbformat": 4,
 "nbformat_minor": 2
}
