{
 "cells": [
  {
   "cell_type": "code",
   "execution_count": 94,
   "metadata": {},
   "outputs": [],
   "source": [
    "from matplotlib import pyplot as plt\n",
    "import pandas as pd\n",
    "import numpy as np\n",
    "%matplotlib inline"
   ]
  },
  {
   "cell_type": "markdown",
   "metadata": {},
   "source": [
    "### Import data"
   ]
  },
  {
   "cell_type": "code",
   "execution_count": 95,
   "metadata": {
    "lines_to_next_cell": 2.0
   },
   "outputs": [],
   "source": [
    "## Defined functions\n",
    "\n",
    "def convert_drugs(value):\n",
    "    \"\"\"\n",
    "    Clean up weird values for drugs text box\n",
    "    :param value: value to convert\n",
    "    :return: categegorical value\n",
    "    \"\"\"\n",
    "    if value == \"Caffeine (energy drinks/coffee)\" or \\\n",
    "        value == \"Caffeine (energy drinks/coffee), Kohvi on elu, kohvi on armastus :) \" or \\\n",
    "        value == \"Herbal tea\" or value == 'herbal tea' or value == \"tee\":\n",
    "        return \"Caffeine\"\n",
    "    elif value.startswith(\"Ei\") or value == \"No\" or value == \"no\" or value == \"food\" or value == \"sweets\":\n",
    "        return \"No\"\n",
    "    return value\n",
    "\n",
    "def merge_ids(id, *other_ids):\n",
    "    for other_id in other_ids:\n",
    "        common[\"user_id\"].loc[common[\"user_id\"] == other_id] = id\n",
    "        general[\"user_id\"].loc[general[\"user_id\"] == other_id] = id\n"
   ]
  },
  {
   "cell_type": "code",
   "execution_count": 96,
   "metadata": {},
   "outputs": [],
   "source": [
    "## Read data in\n",
    "\n",
    "general = pd.read_csv(\"out_general.csv\", names=[\"row\", \"ts\", \"user_id\", \"gender\", \"age\", \"prev_test\", \"pys_activity\", \"sick\", \"pain_general\", \"pain_digest\", \"sleep_regular\"], \n",
    "                     usecols=[\"user_id\", \"gender\", \"age\", \"prev_test\", \"pys_activity\", \"sick\", \"pain_general\", \"pain_digest\", \"sleep_regular\"], \n",
    "                     header=0, \n",
    "                     dtype={'gender':'category', \n",
    "                            'age':'category', \n",
    "                            'prev_test':'category', \n",
    "                            'pys_activity':'category', \n",
    "                            'sick':'category', \n",
    "                            'pain_general':'category', \n",
    "                            'pain_digest':'category', \n",
    "                            'sleep_regular':'category'\n",
    "                           })\n",
    "common = pd.read_csv(\"out_common.csv\", names=[\"ts\", \"user_id\", \"res_number\", \"res_reaction\", \"res_visual\", \"hungry\", \"sleepy\", \"time_sleep\", \"time_wake\", \"stress\",\n",
    "                                              \"fatigue_mental\", \"fatigue_physical\", \"drugs\"], header=0, \n",
    "                     converters={'ts':lambda v: pd.Timestamp(v), \n",
    "                                 'time_sleep':lambda v: pd.to_timedelta(v), \n",
    "                                 'time_wake':lambda v: pd.to_timedelta(v),\n",
    "                                 'drugs': convert_drugs},\n",
    "                     dtype={'hungry':'category', \n",
    "                            'sleepy':'category', \n",
    "                            'stress':'category', \n",
    "                            'fatigue_mental':'category', \n",
    "                            'fatigue_physical':'category'})\n",
    "\n",
    "common[\"drugs\"] = common[\"drugs\"].astype('category')"
   ]
  },
  {
   "cell_type": "code",
   "execution_count": 118,
   "metadata": {},
   "outputs": [
    {
     "data": {
      "text/plain": [
       "False"
      ]
     },
     "execution_count": 118,
     "metadata": {},
     "output_type": "execute_result"
    }
   ],
   "source": [
    "any(common.user_id == 23)"
   ]
  },
  {
   "cell_type": "code",
   "execution_count": 119,
   "metadata": {
    "lines_to_next_cell": 2.0
   },
   "outputs": [],
   "source": [
    "## User related modifications\n",
    "\n",
    "## Alter user_ids\n",
    "pd.set_option(\"mode.chained_assignment\", None)\n",
    "\n",
    "merge_ids(1, 29, 33, 34, 36)\n",
    "merge_ids(35, 37)\n",
    "merge_ids(13, 4, 7)\n",
    "merge_ids(17, 41)\n",
    "merge_ids(10, 38)\n",
    "\n",
    "## Delete not suitable users\n",
    "\n",
    "## Based on user_id\n",
    "\n",
    "common = common[\n",
    "    (common[\"user_id\"] != 9) &\n",
    "    (common[\"user_id\"] != 10) &\n",
    "    (common[\"user_id\"] != 14) &\n",
    "    (common[\"user_id\"] != 18) &\n",
    "    (common[\"user_id\"] != 30) &\n",
    "    (common[\"user_id\"] != 31)\n",
    "    ]\n",
    "\n",
    "## Based on stress levels\n",
    "\n",
    "common = common[\n",
    "    (common[\"stress\"] != '4') &\n",
    "    (common[\"stress\"] != '5')\n",
    "    ]\n",
    "\n",
    "## Sick people\n",
    "\n",
    "sick_people_ids = np.array(general.loc[general[\"sick\"] == \"Yes\", [\"user_id\"]].values.tolist()).flatten().tolist()\n",
    "\n",
    "for usr_id in sick_people_ids:\n",
    "    common = common[common[\"user_id\"] != usr_id]"
   ]
  },
  {
   "cell_type": "markdown",
   "metadata": {},
   "source": [
    "### Add times from waking up"
   ]
  },
  {
   "cell_type": "code",
   "execution_count": 68,
   "metadata": {},
   "outputs": [
    {
     "data": {
      "text/plain": [
       "Index(['1', '2', '3', '4', '5'], dtype='object')"
      ]
     },
     "execution_count": 68,
     "metadata": {},
     "output_type": "execute_result"
    }
   ],
   "source": [
    "common[\"stress\"].cat.categories"
   ]
  },
  {
   "cell_type": "code",
   "execution_count": 84,
   "metadata": {},
   "outputs": [
    {
     "data": {
      "text/plain": [
       "No          156\nCaffeine     35\nAlcohol      20\nName: drugs, dtype: int64"
      ]
     },
     "execution_count": 84,
     "metadata": {},
     "output_type": "execute_result"
    }
   ],
   "source": [
    "common[\"drugs\"].value_counts()\n",
    "\n",
    "#print(common[common[\"hungry\"] == '4'])"
   ]
  },
  {
   "cell_type": "code",
   "execution_count": 160,
   "metadata": {
    "collapsed": true
   },
   "outputs": [
    {
     "data": {
      "text/plain": [
       "6     17\n",
       "11    14\n",
       "16    14\n",
       "23    14\n",
       "2     14\n",
       "13    13\n",
       "28    12\n",
       "15    12\n",
       "8     12\n",
       "3     12\n",
       "12    11\n",
       "19    11\n",
       "21     9\n",
       "24     9\n",
       "25     9\n",
       "26     9\n",
       "27     9\n",
       "17     8\n",
       "1      8\n",
       "20     8\n",
       "5      7\n",
       "32     5\n",
       "22     4\n",
       "35     3\n",
       "Name: user_id, dtype: int64"
      ]
     },
     "execution_count": 160,
     "metadata": {},
     "output_type": "execute_result"
    }
   ],
   "source": [
    "common[\"user_id\"].value_counts()\n",
    "## So many user_ids with only one entry? \n",
    "## Some of these should be removed before => Can't be done without knowing the names. "
   ]
  },
  {
   "cell_type": "code",
   "execution_count": 83,
   "metadata": {},
   "outputs": [],
   "source": [
    "## Too few rows of hungry level 4 and 5 to draw conclusions \n",
    "\n",
    "hungry_level_1 = common.loc[common[\"hungry\"] == '1', [\"res_number\", \"res_reaction\", \"res_visual\"]]\n",
    "hungry_level_2 = common.loc[common[\"hungry\"] == '2', [\"res_number\", \"res_reaction\", \"res_visual\"]]\n",
    "hungry_level_3 = common.loc[common[\"hungry\"] == '3', [\"res_number\", \"res_reaction\", \"res_visual\"]]"
   ]
  },
  {
   "cell_type": "code",
   "execution_count": 82,
   "metadata": {
    "scrolled": true
   },
   "outputs": [
    {
     "data": {
      "image/png": "[encoded data removed]",
      "text/plain": [
       "<Figure size 1008x324 with 3 Axes>"
      ]
     },
     "metadata": {},
     "output_type": "display_data"
    }
   ],
   "source": [
    "def draw_bar_plot(plot, title, x_axis_list, y_axis_list):\n",
    "    plot.set_title(title)\n",
    "\n",
    "    for i in range(0, len(x_axis_list)):\n",
    "        plot.bar(x_axis_list[i], y_axis_list[i], align = \"center\")\n",
    "        \n",
    "        \n",
    "fig, (plt1, plt2, plt3) = plt.subplots(1, 3, figsize = (14, 4.5)) \n",
    "\n",
    "draw_bar_plot(plt1, \"res_number\", ['1', '2', '3'], [\n",
    "    hungry_level_1[\"res_number\"].mean().round(2), \n",
    "    hungry_level_2[\"res_number\"].mean().round(2),\n",
    "    hungry_level_3[\"res_number\"].mean().round(2)\n",
    "    ])\n",
    "\n",
    "draw_bar_plot(plt2, \"res_reaction\", ['1', '2', '3'], [\n",
    "    hungry_level_1[\"res_reaction\"].mean().round(2), \n",
    "    hungry_level_2[\"res_reaction\"].mean().round(2),\n",
    "    hungry_level_3[\"res_reaction\"].mean().round(2)\n",
    "    ])\n",
    "\n",
    "draw_bar_plot(plt3, \"res_visual\", ['1', '2', '3'], [\n",
    "    hungry_level_1[\"res_visual\"].mean().round(2), \n",
    "    hungry_level_2[\"res_visual\"].mean().round(2),\n",
    "    hungry_level_3[\"res_visual\"].mean().round(2)\n",
    "    ])"
   ]
  },
  {
   "cell_type": "markdown",
   "metadata": {
    "lines_to_next_cell": 2.0
   },
   "source": [
    "## Add time from wakeup"
   ]
  },
  {
   "cell_type": "code",
   "execution_count": 9,
   "metadata": {
    "lines_to_next_cell": 2.0
   },
   "outputs": [],
   "source": [
    "import statsmodels.api as sm\n",
    "from statsmodels.formula.api import ols"
   ]
  },
  {
   "cell_type": "code",
   "execution_count": 16,
   "metadata": {},
   "outputs": [],
   "source": [
    "ts_wake = common.ts.apply(lambda x: x.replace(hour=0, minute=0, second=0)) + common.time_wake\n",
    "delta = (common.ts - ts_wake) # TODO minus deltas\n",
    "common[\"awake_delta\"] = delta  / np.timedelta64(1, 's')"
   ]
  },
  {
   "cell_type": "code",
   "execution_count": 6,
   "metadata": {},
   "outputs": [
    {
     "ename": "NameError",
     "evalue": "name 'common' is not defined",
     "traceback": [
      "\u001b[1;31m---------------------------------------------------------------------------\u001b[0m",
      "\u001b[1;31mNameError\u001b[0m                                 Traceback (most recent call last)",
      "\u001b[1;32m<ipython-input-6-5dc95267d994>\u001b[0m in \u001b[0;36m<module>\u001b[1;34m()\u001b[0m\n\u001b[1;32m----> 1\u001b[1;33m \u001b[0mmodel\u001b[0m \u001b[1;33m=\u001b[0m \u001b[0mols\u001b[0m\u001b[1;33m(\u001b[0m\u001b[1;34m\"res_number ~ awake_delta + hungry + sleepy + stress + fatigue_mental\"\u001b[0m\u001b[1;33m,\u001b[0m \u001b[0mcommon\u001b[0m\u001b[1;33m)\u001b[0m\u001b[1;33m.\u001b[0m\u001b[0mfit\u001b[0m\u001b[1;33m(\u001b[0m\u001b[1;33m)\u001b[0m\u001b[1;33m\u001b[0m\u001b[0m\n\u001b[0m\u001b[0;32m      2\u001b[0m \u001b[0mmodel\u001b[0m\u001b[1;33m.\u001b[0m\u001b[0msummary\u001b[0m\u001b[1;33m(\u001b[0m\u001b[1;33m)\u001b[0m\u001b[1;33m\u001b[0m\u001b[0m\n",
      "\u001b[1;31mNameError\u001b[0m: name 'common' is not defined"
     ],
     "output_type": "error"
    }
   ],
   "source": [
    "model = ols(\"res_number ~ awake_delta + hungry + sleepy + stress + fatigue_mental\", common).fit()\n",
    "model.summary()"
   ]
  },
  {
   "cell_type": "code",
   "execution_count": 7,
   "metadata": {},
   "outputs": [
    {
     "ename": "NameError",
     "evalue": "name 'plt' is not defined",
     "traceback": [
      "\u001b[1;31m---------------------------------------------------------------------------\u001b[0m",
      "\u001b[1;31mNameError\u001b[0m                                 Traceback (most recent call last)",
      "\u001b[1;32m<ipython-input-7-e0f560382dc9>\u001b[0m in \u001b[0;36m<module>\u001b[1;34m()\u001b[0m\n\u001b[1;32m----> 1\u001b[1;33m \u001b[0mfig\u001b[0m\u001b[1;33m,\u001b[0m\u001b[0mplots\u001b[0m  \u001b[1;33m=\u001b[0m \u001b[0mplt\u001b[0m\u001b[1;33m.\u001b[0m\u001b[0msubplots\u001b[0m\u001b[1;33m(\u001b[0m\u001b[1;36m1\u001b[0m\u001b[1;33m,\u001b[0m\u001b[1;36m1\u001b[0m\u001b[1;33m)\u001b[0m\u001b[1;33m\u001b[0m\u001b[0m\n\u001b[0m\u001b[0;32m      2\u001b[0m \u001b[0mfig\u001b[0m \u001b[1;33m=\u001b[0m \u001b[0msm\u001b[0m\u001b[1;33m.\u001b[0m\u001b[0mgraphics\u001b[0m\u001b[1;33m.\u001b[0m\u001b[0mplot_partregress_grid\u001b[0m\u001b[1;33m(\u001b[0m\u001b[0mmodel\u001b[0m\u001b[1;33m,\u001b[0m \u001b[0mfig\u001b[0m\u001b[1;33m=\u001b[0m\u001b[0mfig\u001b[0m\u001b[1;33m)\u001b[0m\u001b[1;33m\u001b[0m\u001b[0m\n",
      "\u001b[1;31mNameError\u001b[0m: name 'plt' is not defined"
     ],
     "output_type": "error"
    }
   ],
   "source": [
    "fig,plots  = plt.subplots(1,1)\n",
    "fig = sm.graphics.plot_partregress_grid(model, fig=fig)"
   ]
  },
  {
   "cell_type": "code",
   "execution_count": null,
   "metadata": {
    "lines_to_next_cell": 2.0
   },
   "outputs": [],
   "source": []
  }
 ],
 "metadata": {
  "jupytext": {
   "text_representation": {
    "extension": ".py",
    "format_name": "percent",
    "format_version": "1.1",
    "jupytext_version": "0.8.3"
   }
  },
  "kernelspec": {
   "display_name": "Python 3",
   "language": "python",
   "name": "python3"
  },
  "language_info": {
   "codemirror_mode": {
    "name": "ipython",
    "version": 3
   },
   "file_extension": ".py",
   "mimetype": "text/x-python",
   "name": "python",
   "nbconvert_exporter": "python",
   "pygments_lexer": "ipython3",
   "version": "3.5.4"
  }
 },
 "nbformat": 4,
 "nbformat_minor": 2
}
