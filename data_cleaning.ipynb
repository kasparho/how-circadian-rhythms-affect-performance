{
 "cells": [
  {
   "cell_type": "code",
   "execution_count": null,
   "metadata": {},
   "outputs": [],
   "source": [
    "from matplotlib import pyplot as plt\n",
    "import pandas as pd\n",
    "import numpy as np\n",
    "\n",
    "#%matplotlib inline"
   ]
  },
  {
   "cell_type": "markdown",
   "metadata": {},
   "source": [
    "### Import data"
   ]
  },
  {
   "cell_type": "code",
   "execution_count": null,
   "metadata": {},
   "outputs": [],
   "source": [
    "## Defined functions\n",
    "\n",
    "def convert_drugs(value):\n",
    "    \"\"\"\n",
    "    Clean up weird values for drugs text box\n",
    "    :param value: value to convert\n",
    "    :return: categegorical value\n",
    "    \"\"\"\n",
    "    if value == \"Caffeine (energy drinks/coffee)\" or \\\n",
    "        value == \"Caffeine (energy drinks/coffee), Kohvi on elu, kohvi on armastus :) \" or \\\n",
    "        value == \"Herbal tea\" or value == 'herbal tea' or value == \"tee\":\n",
    "        return \"Caffeine\"\n",
    "    elif value.startswith(\"Ei\") or value == \"No\" or value == \"no\" or value == \"food\" or value == \"sweets\":\n",
    "        return \"No\"\n",
    "    return value\n",
    "\n",
    "\n",
    "def merge_ids(id, *other_ids):\n",
    "    for other_id in other_ids:\n",
    "        common[\"user_id\"].loc[common[\"user_id\"] == other_id] = id\n",
    "        general.rename(index={other_id: id}, inplace=True)\n",
    "\n",
    "\n",
    "def remove_users(ids):\n",
    "    global common, general\n",
    "    for i in ids:\n",
    "        common = common[common[\"user_id\"] != i]\n",
    "        general.drop(i, inplace=True, errors=\"ignore\")\n",
    "\n",
    "\n"
   ]
  },
  {
   "cell_type": "code",
   "execution_count": null,
   "metadata": {},
   "outputs": [],
   "source": [
    "## Read data in\n",
    "\n",
    "general = pd.read_csv(\"out_general.csv\", names=[\"row\", \"ts\", \"user_id\", \"gender\", \"age\", \"prev_test\", \"pys_activity\", \"sick\", \"pain_general\", \"pain_digest\", \"sleep_regular\"], \n",
    "                     usecols=[\"user_id\", \"gender\", \"age\", \"prev_test\", \"pys_activity\", \"sick\", \"pain_general\", \"pain_digest\", \"sleep_regular\"], \n",
    "                     header=0, \n",
    "                     dtype={'gender':'category', \n",
    "                            'age':'category', \n",
    "                            'prev_test':'category', \n",
    "                            'pys_activity':'category', \n",
    "                            'sick':'category', \n",
    "                            'pain_general':'category', \n",
    "                            'pain_digest':'category', \n",
    "                            'sleep_regular':'category'\n",
    "                           },\n",
    "                      index_col=0)\n",
    "common = pd.read_csv(\"out_common.csv\", names=[\"ts\", \"user_id\", \"res_number\", \"res_reaction\", \"res_visual\", \"hungry\", \"sleepy\", \"time_sleep\", \"time_wake\", \"stress\",\n",
    "                                              \"fatigue_mental\", \"fatigue_physical\", \"drugs\"], header=0, \n",
    "                     converters={'ts':lambda v: pd.Timestamp(v), \n",
    "                                 'time_sleep':lambda v: pd.to_timedelta(v), \n",
    "                                 'time_wake':lambda v: pd.to_timedelta(v),\n",
    "                                 'drugs': convert_drugs},\n",
    "                     dtype={'hungry':'category', \n",
    "                            'sleepy':'category', \n",
    "                            'stress':'category', \n",
    "                            'fatigue_mental':'category', \n",
    "                            'fatigue_physical':'category'})\n",
    "\n",
    "common[\"drugs\"] = common[\"drugs\"].astype('category')"
   ]
  },
  {
   "cell_type": "code",
   "execution_count": null,
   "metadata": {},
   "outputs": [],
   "source": [
    "## Cleanup users\n",
    "\n",
    "### Merge misspelled usernames\n",
    "pd.set_option(\"mode.chained_assignment\", None)\n",
    "\n",
    "merge_ids(1, 29, 33, 34, 36)\n",
    "merge_ids(35, 37)\n",
    "merge_ids(4, 13, 7)\n",
    "merge_ids(17, 41)\n",
    "merge_ids(10, 38)\n",
    "merge_ids(8, 40)\n",
    "merge_ids(18, 45)\n",
    "\n",
    "# noinspection PyUnreachableCode\n",
    "if False:\n",
    "    ### Remove users with various faults\n",
    "    remove_users([10, 14, 18])\n",
    "\n",
    "    ### Remove users with too much stress\n",
    "    stress_ids = common[(common[\"stress\"] == '4') | (common[\"stress\"] == '5')][\"user_id\"].unique()\n",
    "    remove_users(stress_ids)\n",
    "\n",
    "    ## Remove sick people\n",
    "    sick_people_ids = general[general[\"sick\"] == \"Yes\"][\"user_id\"].unique()\n",
    "    remove_users(sick_people_ids)\n",
    "\n",
    "common = common.reset_index(drop=True)\n",
    "general.sort_index(inplace=True)\n",
    "\n",
    "# filter people who either failed at filling out general or didn't do any tests\n",
    "empty_ids = set(common.user_id.unique()) ^ set(general.index)\n",
    "remove_users(empty_ids)\n",
    "\n",
    "# remove people who did less than 4 tests TODO maybe more?\n",
    "test_counts = common[\"user_id\"].value_counts()\n",
    "almost_empty_ids = test_counts[test_counts < 4].index\n",
    "remove_users(almost_empty_ids)"
   ]
  },
  {
   "cell_type": "markdown",
   "metadata": {},
   "source": [
    "## Normalize scores"
   ]
  },
  {
   "cell_type": "code",
   "execution_count": null,
   "metadata": {},
   "outputs": [],
   "source": [
    "from sklearn import preprocessing\n",
    "\n",
    "columns = [\"res_reaction\", \"res_visual\", \"res_number\"]\n",
    "\n",
    "for c in columns:\n",
    "    scaler = preprocessing.MinMaxScaler()\n",
    "    common[[c]] = scaler.fit_transform(common[[c]])\n",
    "\n",
    "# reaction time is better the smaller it is, so we need to flip it\n",
    "common.res_reaction = 1-common.res_reaction"
   ]
  },
  {
   "cell_type": "code",
   "execution_count": 83,
   "metadata": {},
   "outputs": [],
   "source": [
    "## Too few rows of hungry level 4 and 5 to draw conclusions \n",
    "\n",
    "hungry_level_1 = common.loc[common[\"hungry\"] == '1', [\"res_number\", \"res_reaction\", \"res_visual\"]]\n",
    "hungry_level_2 = common.loc[common[\"hungry\"] == '2', [\"res_number\", \"res_reaction\", \"res_visual\"]]\n",
    "hungry_level_3 = common.loc[common[\"hungry\"] == '3', [\"res_number\", \"res_reaction\", \"res_visual\"]]"
   ]
  },
  {
   "cell_type": "code",
   "execution_count": null,
   "metadata": {},
   "outputs": [],
   "source": [
    "def draw_bar_plot(plot, title, x_axis_list, y_axis_list):\n",
    "    plot.set_title(title)\n",
    "\n",
    "    for i in range(0, len(x_axis_list)):\n",
    "        plot.bar(x_axis_list[i], y_axis_list[i], align = \"center\")\n",
    "        \n",
    "        \n",
    "fig, (plt1, plt2, plt3) = plt.subplots(1, 3, figsize = (14, 4.5)) \n",
    "\n",
    "draw_bar_plot(plt1, \"res_number\", ['1', '2', '3'], [\n",
    "    round(hungry_level_1[\"res_number\"].mean(),2),\n",
    "    round(hungry_level_2[\"res_number\"].mean(),2),\n",
    "    round(hungry_level_3[\"res_number\"].mean(),2)\n",
    "    ])\n",
    "\n",
    "draw_bar_plot(plt2, \"res_reaction\", ['1', '2', '3'], [\n",
    "    round(hungry_level_1[\"res_reaction\"].mean(),2),\n",
    "    round(hungry_level_2[\"res_reaction\"].mean(),2),\n",
    "    round(hungry_level_3[\"res_reaction\"].mean(),2)\n",
    "    ])\n",
    "\n",
    "draw_bar_plot(plt3, \"res_visual\", ['1', '2', '3'], [\n",
    "    round(hungry_level_1[\"res_visual\"].mean(),2),\n",
    "    round(hungry_level_2[\"res_visual\"].mean(),2),\n",
    "    round(hungry_level_3[\"res_visual\"].mean(),2)\n",
    "    ])"
   ]
  },
  {
   "cell_type": "code",
   "execution_count": null,
   "metadata": {},
   "outputs": [],
   "source": [
    "\n",
    "common[[\"user_id\", \"hungry\", \"res_number\", \"res_visual\", \"res_reaction\"]].groupby([\"user_id\", \"hungry\"]).mean().groupby(\"hungry\").mean()"
   ]
  },
  {
   "cell_type": "markdown",
   "metadata": {
    "lines_to_next_cell": 2
   },
   "source": [
    "## Add time from wakeup"
   ]
  },
  {
   "cell_type": "code",
   "execution_count": null,
   "metadata": {
    "lines_to_next_cell": 2
   },
   "outputs": [],
   "source": [
    "\n",
    "# add awake delta\n",
    "ts_wake = common.ts.apply(lambda x: x.replace(hour=0, minute=0, second=0)) + common.time_wake\n",
    "delta = ((common.ts - ts_wake) + pd.Timedelta(days=1)) % pd.Timedelta(days=1)\n",
    "# common[\"awake_delta\"] = delta / np.timedelta64(1, 's')\n",
    "\n",
    "# bin deltas into 1h boxes\n",
    "#pd.cut(delta)\n",
    "#delta = pd.timedelta_range(start=\"0 hour\" , freq=\"1H\", periods=25, closed=\"right\")\n",
    "common['awake_bin'] = [r.seconds // 3600 + 1 for r in delta]\n",
    "#common\n",
    "\n",
    "# fine best time per person \n",
    "res = common[[\"user_id\", \"res_number\", \"res_visual\", \"res_reaction\"]]\n",
    "best = res.groupby(\"user_id\").idxmax()\n",
    "\n",
    "assert best.index.all(general.index)\n",
    "for c in columns:\n",
    "    bins = common.loc[best[c]][[\"awake_bin\", \"user_id\"]]\n",
    "    bins = bins.set_index(\"user_id\")\n",
    "    general[\"best_\" + c] = bins"
   ]
  },
  {
   "cell_type": "code",
   "execution_count": null,
   "metadata": {},
   "outputs": [],
   "source": [
    "# Andrews Curves\n",
    "from pandas.plotting import andrews_curves\n",
    "\n",
    "\n",
    "#long_res = pd.wide_to_long(res, \"res\", i=\"id\", j=\"game_type\", suffix=\"\\w+\", sep=\"_\").reset_index()\n",
    "\n",
    "#del long_res[\"id\"]\n",
    "#means = long_res.groupby([\"user_id\", \"game_type\"]).mean().reset_index()\n",
    "#del means[\"user_id\"]\n",
    "\n",
    "andrews_curves(res, \"user_id\")\n",
    "\n",
    "#fig, plots = plt.subplots(1, 3, figsize = (14, 4.5))\n",
    "\n",
    "#for column,plot in zip(columns,plots) :\n",
    "    #res[column].plot.bar(ax=plot)\n",
    "\n"
   ]
  },
  {
   "cell_type": "code",
   "execution_count": null,
   "metadata": {},
   "outputs": [],
   "source": [
    "# Growth of player\n",
    "res.groupby(\"user_id\")[columns].plot()"
   ]
  },
  {
   "cell_type": "code",
   "execution_count": null,
   "metadata": {
    "lines_to_next_cell": 2
   },
   "outputs": [],
   "source": [
    "#"
   ]
  },
  {
   "cell_type": "code",
   "execution_count": 9,
   "metadata": {
    "lines_to_next_cell": 2
   },
   "outputs": [],
   "source": [
    "import statsmodels.api as sm\n",
    "from statsmodels.formula.api import ols\n",
    "\n"
   ]
  },
  {
   "cell_type": "code",
   "execution_count": null,
   "metadata": {
    "lines_to_next_cell": 2
   },
   "outputs": [],
   "source": []
  },
  {
   "cell_type": "code",
   "execution_count": null,
   "metadata": {},
   "outputs": [],
   "source": [
    "model = ols(\"res_number ~ awake_delta\", common).fit()\n",
    "model.summary()"
   ]
  },
  {
   "cell_type": "code",
   "execution_count": null,
   "metadata": {},
   "outputs": [],
   "source": [
    "fig,plots  = plt.subplots(1,1)\n",
    "fig = sm.graphics.plot_partregress_grid(model, fig=fig)"
   ]
  },
  {
   "cell_type": "code",
   "execution_count": null,
   "metadata": {
    "lines_to_next_cell": 3
   },
   "outputs": [],
   "source": []
  }
 ],
 "metadata": {
  "jupytext": {
   "text_representation": {
    "extension": ".py",
    "format_name": "percent",
    "format_version": "1.1",
    "jupytext_version": "0.8.3"
   }
  },
  "kernelspec": {
   "display_name": "Python 3",
   "language": "python",
   "name": "python3"
  },
  "language_info": {
   "codemirror_mode": {
    "name": "ipython",
    "version": 3
   },
   "file_extension": ".py",
   "mimetype": "text/x-python",
   "name": "python",
   "nbconvert_exporter": "python",
   "pygments_lexer": "ipython3",
   "version": "3.5.4"
  }
 },
 "nbformat": 4,
 "nbformat_minor": 2
}
