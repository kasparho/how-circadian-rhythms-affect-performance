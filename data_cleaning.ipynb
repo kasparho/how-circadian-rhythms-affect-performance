{
 "cells": [
  {
   "cell_type": "code",
   "execution_count": 1,
   "metadata": {
    "collapsed": true
   },
   "outputs": [
    {
     "name": "stdout",
     "output_type": "stream",
     "text": [
      "3.5.4 |Anaconda custom (64-bit)| (default, Nov  8 2017, 14:34:30) [MSC v.1900 64 bit (AMD64)]\n"
     ]
    }
   ],
   "source": [
    "from matplotlib import pyplot as plt\n",
    "import pandas as pd\n",
    "import numpy as np\n",
    "from scipy import stats\n",
    "%matplotlib inline\n",
    "import sys\n",
    "print(sys.version)"
   ]
  },
  {
   "cell_type": "markdown",
   "metadata": {},
   "source": [
    "### Import data"
   ]
  },
  {
   "cell_type": "code",
   "execution_count": 2,
   "metadata": {
    "collapsed": true
   },
   "outputs": [],
   "source": [
    "##Defined functions\n",
    "\n",
    "def convert_drugs(value):\n",
    "    \"\"\"\n",
    "    Clean up weird values for drugs text box\n",
    "    :param value: value to convert\n",
    "    :return: categegorical value\n",
    "    \"\"\"\n",
    "    if value == \"Caffeine (energy drinks/coffee)\" or value == \"Caffeine (energy drinks/coffee), Kohvi on elu, kohvi on armastus :) \":\n",
    "        return \"Caffeine\"\n",
    "    elif value.startswith(\"Ei\") or value == \"No\" or value == \"no\":\n",
    "        return \"No\"\n",
    "    elif value == \"Herbal tea\" or value == 'herbal tea' or value == \"tee\":\n",
    "        return \"Tea\"\n",
    "    return value\n"
   ]
  },
  {
   "cell_type": "code",
   "execution_count": 3,
   "metadata": {},
   "outputs": [],
   "source": [
    "## Read data in\n",
    "\n",
    "general = pd.read_csv(\"out_general.csv\", names=[\"row\", \"ts\", \"user_id\", \"gender\", \"age\", \"prev_test\", \"pys_activity\", \"sick\", \"pain_general\", \"pain_digest\", \"sleep_regular\"])\n",
    "common = pd.read_csv(\"out_common.csv\", names=[\"ts\", \"user_id\", \"res_number\", \"res_reaction\", \"res_visual\", \"hungry\", \"sleepy\", \"time_sleep\", \"time_wake\", \"stress\",\n",
    "                                              \"fatigue_mental\", \"fatigue_physical\", \"drugs\"], header=0, \n",
    "                     converters={'ts':lambda v: pd.Timestamp(v), \n",
    "                                 'time_sleep':lambda v: pd.to_timedelta(v), \n",
    "                                 'time_wake':lambda v: pd.to_timedelta(v),\n",
    "                                 'drugs': convert_drugs},\n",
    "                     dtype={'hungry':'category', \n",
    "                            'sleepy':'category', \n",
    "                            'stress':'category', \n",
    "                            'fatigue_mental':'category', \n",
    "                            'fatigue_physical':'category'})\n",
    "\n",
    "common[\"drugs\"] = common[\"drugs\"].astype('category')"
   ]
  },
  {
   "cell_type": "code",
   "execution_count": 4,
   "metadata": {
    "collapsed": true
   },
   "outputs": [
    {
     "data": {
      "text/plain": [
       "ts                   datetime64[ns]\nuser_id                       int64\nres_number                    int64\nres_reaction                  int64\nres_visual                    int64\nhungry                     category\nsleepy                     category\ntime_sleep          timedelta64[ns]\ntime_wake           timedelta64[ns]\nstress                     category\nfatigue_mental             category\nfatigue_physical           category\ndrugs                      category\ndtype: object"
      ]
     },
     "execution_count": 4,
     "metadata": {},
     "output_type": "execute_result"
    }
   ],
   "source": [
    "common.dtypes"
   ]
  },
  {
   "cell_type": "markdown",
   "metadata": {},
   "source": [
    "### Add times from waking up"
   ]
  },
  {
   "cell_type": "code",
   "execution_count": 5,
   "metadata": {
    "collapsed": false
   },
   "outputs": [
    {
     "data": {
      "text/html": [
       "<div>\n",
       "<style scoped>\n",
       "    .dataframe tbody tr th:only-of-type {\n",
       "        vertical-align: middle;\n",
       "    }\n",
       "\n",
       "    .dataframe tbody tr th {\n",
       "        vertical-align: top;\n",
       "    }\n",
       "\n",
       "    .dataframe thead th {\n",
       "        text-align: right;\n",
       "    }\n",
       "</style>\n",
       "<table border=\"1\" class=\"dataframe\">\n",
       "  <thead>\n",
       "    <tr style=\"text-align: right;\">\n",
       "      <th></th>\n",
       "      <th>ts</th>\n",
       "      <th>user_id</th>\n",
       "      <th>res_number</th>\n",
       "      <th>res_reaction</th>\n",
       "      <th>res_visual</th>\n",
       "      <th>hungry</th>\n",
       "      <th>sleepy</th>\n",
       "      <th>time_sleep</th>\n",
       "      <th>time_wake</th>\n",
       "      <th>stress</th>\n",
       "      <th>fatigue_mental</th>\n",
       "      <th>fatigue_physical</th>\n",
       "      <th>drugs</th>\n",
       "    </tr>\n",
       "  </thead>\n",
       "  <tbody>\n",
       "    <tr>\n",
       "      <th>0</th>\n",
       "      <td>2018-12-18 16:24:13</td>\n",
       "      <td>1</td>\n",
       "      <td>11</td>\n",
       "      <td>297</td>\n",
       "      <td>5119</td>\n",
       "      <td>1</td>\n",
       "      <td>2</td>\n",
       "      <td>00:30:00</td>\n",
       "      <td>07:30:00</td>\n",
       "      <td>1</td>\n",
       "      <td>Yes</td>\n",
       "      <td>Light activity (walking, cleaning etc.)</td>\n",
       "      <td>Caffeine</td>\n",
       "    </tr>\n",
       "    <tr>\n",
       "      <th>1</th>\n",
       "      <td>2018-12-19 10:02:27</td>\n",
       "      <td>2</td>\n",
       "      <td>9</td>\n",
       "      <td>561</td>\n",
       "      <td>2219</td>\n",
       "      <td>2</td>\n",
       "      <td>2</td>\n",
       "      <td>01:30:00</td>\n",
       "      <td>09:30:00</td>\n",
       "      <td>3</td>\n",
       "      <td>No</td>\n",
       "      <td>No physical activity</td>\n",
       "      <td>No</td>\n",
       "    </tr>\n",
       "    <tr>\n",
       "      <th>2</th>\n",
       "      <td>2018-12-19 10:13:25</td>\n",
       "      <td>3</td>\n",
       "      <td>7</td>\n",
       "      <td>332</td>\n",
       "      <td>13927</td>\n",
       "      <td>1</td>\n",
       "      <td>2</td>\n",
       "      <td>00:00:00</td>\n",
       "      <td>09:20:00</td>\n",
       "      <td>1</td>\n",
       "      <td>No</td>\n",
       "      <td>No physical activity</td>\n",
       "      <td>No</td>\n",
       "    </tr>\n",
       "    <tr>\n",
       "      <th>3</th>\n",
       "      <td>2018-12-19 10:31:32</td>\n",
       "      <td>4</td>\n",
       "      <td>9</td>\n",
       "      <td>1085</td>\n",
       "      <td>19</td>\n",
       "      <td>1</td>\n",
       "      <td>1</td>\n",
       "      <td>23:15:00</td>\n",
       "      <td>08:15:00</td>\n",
       "      <td>1</td>\n",
       "      <td>No</td>\n",
       "      <td>Light activity (walking, cleaning etc.)</td>\n",
       "      <td>No</td>\n",
       "    </tr>\n",
       "    <tr>\n",
       "      <th>4</th>\n",
       "      <td>2018-12-19 10:33:30</td>\n",
       "      <td>5</td>\n",
       "      <td>13</td>\n",
       "      <td>299</td>\n",
       "      <td>10476</td>\n",
       "      <td>1</td>\n",
       "      <td>3</td>\n",
       "      <td>01:00:00</td>\n",
       "      <td>06:37:00</td>\n",
       "      <td>3</td>\n",
       "      <td>No</td>\n",
       "      <td>No physical activity</td>\n",
       "      <td>Caffeine</td>\n",
       "    </tr>\n",
       "  </tbody>\n",
       "</table>\n",
       "</div>"
      ],
      "text/plain": [
       "<div>\n",
       "<style scoped>\n",
       "    .dataframe tbody tr th:only-of-type {\n",
       "        vertical-align: middle;\n",
       "    }\n",
       "\n",
       "    .dataframe tbody tr th {\n",
       "        vertical-align: top;\n",
       "    }\n",
       "\n",
       "    .dataframe thead th {\n",
       "        text-align: right;\n",
       "    }\n",
       "</style>\n",
       "<table border=\"1\" class=\"dataframe\">\n",
       "  <thead>\n",
       "    <tr style=\"text-align: right;\">\n",
       "      <th></th>\n",
       "      <th>ts</th>\n",
       "      <th>user_id</th>\n",
       "      <th>res_number</th>\n",
       "      <th>res_reaction</th>\n",
       "      <th>res_visual</th>\n",
       "      <th>hungry</th>\n",
       "      <th>sleepy</th>\n",
       "      <th>time_sleep</th>\n",
       "      <th>time_wake</th>\n",
       "      <th>stress</th>\n",
       "      <th>fatigue_mental</th>\n",
       "      <th>fatigue_physical</th>\n",
       "      <th>drugs</th>\n",
       "    </tr>\n",
       "  </thead>\n",
       "  <tbody>\n",
       "    <tr>\n",
       "      <th>0</th>\n",
       "      <td>2018-12-18 16:24:13</td>\n",
       "      <td>1</td>\n",
       "      <td>11</td>\n",
       "      <td>297</td>\n",
       "      <td>5119</td>\n",
       "      <td>1</td>\n",
       "      <td>2</td>\n",
       "      <td>00:30:00</td>\n",
       "      <td>07:30:00</td>\n",
       "      <td>1</td>\n",
       "      <td>Yes</td>\n",
       "      <td>Light activity (walking, cleaning etc.)</td>\n",
       "      <td>Caffeine</td>\n",
       "    </tr>\n",
       "    <tr>\n",
       "      <th>1</th>\n",
       "      <td>2018-12-19 10:02:27</td>\n",
       "      <td>2</td>\n",
       "      <td>9</td>\n",
       "      <td>561</td>\n",
       "      <td>2219</td>\n",
       "      <td>2</td>\n",
       "      <td>2</td>\n",
       "      <td>01:30:00</td>\n",
       "      <td>09:30:00</td>\n",
       "      <td>3</td>\n",
       "      <td>No</td>\n",
       "      <td>No physical activity</td>\n",
       "      <td>No</td>\n",
       "    </tr>\n",
       "    <tr>\n",
       "      <th>2</th>\n",
       "      <td>2018-12-19 10:13:25</td>\n",
       "      <td>3</td>\n",
       "      <td>7</td>\n",
       "      <td>332</td>\n",
       "      <td>13927</td>\n",
       "      <td>1</td>\n",
       "      <td>2</td>\n",
       "      <td>00:00:00</td>\n",
       "      <td>09:20:00</td>\n",
       "      <td>1</td>\n",
       "      <td>No</td>\n",
       "      <td>No physical activity</td>\n",
       "      <td>No</td>\n",
       "    </tr>\n",
       "    <tr>\n",
       "      <th>3</th>\n",
       "      <td>2018-12-19 10:31:32</td>\n",
       "      <td>4</td>\n",
       "      <td>9</td>\n",
       "      <td>1085</td>\n",
       "      <td>19</td>\n",
       "      <td>1</td>\n",
       "      <td>1</td>\n",
       "      <td>23:15:00</td>\n",
       "      <td>08:15:00</td>\n",
       "      <td>1</td>\n",
       "      <td>No</td>\n",
       "      <td>Light activity (walking, cleaning etc.)</td>\n",
       "      <td>No</td>\n",
       "    </tr>\n",
       "    <tr>\n",
       "      <th>4</th>\n",
       "      <td>2018-12-19 10:33:30</td>\n",
       "      <td>5</td>\n",
       "      <td>13</td>\n",
       "      <td>299</td>\n",
       "      <td>10476</td>\n",
       "      <td>1</td>\n",
       "      <td>3</td>\n",
       "      <td>01:00:00</td>\n",
       "      <td>06:37:00</td>\n",
       "      <td>3</td>\n",
       "      <td>No</td>\n",
       "      <td>No physical activity</td>\n",
       "      <td>Caffeine</td>\n",
       "    </tr>\n",
       "  </tbody>\n",
       "</table>\n",
       "</div>"
      ]
     },
     "execution_count": 5,
     "metadata": {},
     "output_type": "execute_result"
    }
   ],
   "source": [
    "common.head()"
   ]
  },
  {
   "cell_type": "code",
   "execution_count": 6,
   "metadata": {},
   "outputs": [
    {
     "data": {
      "text/plain": [
       "Index(['1', '2', '3', '4', '5'], dtype='object')"
      ]
     },
     "execution_count": 6,
     "metadata": {},
     "output_type": "execute_result"
    }
   ],
   "source": [
    "common[\"hungry\"].cat.categories\n",
    "\n",
    "## Should we replace \"food\" and \"sweets\" with \"No\"?\n",
    "## These weren't the kind of mind altering \"products\" we had in mind."
   ]
  },
  {
   "cell_type": "code",
   "execution_count": 7,
   "metadata": {
    "collapsed": true
   },
   "outputs": [
    {
     "data": {
      "text/plain": [
       "6     17\n16    14\n2     14\n23    14\n11    14\n28    12\n3     12\n15    12\n8     12\n12    11\n19    11\n4     11\n26     9\n25     9\n24     9\n21     9\n27     9\n20     8\n17     8\n5      7\n32     5\n18     5\n14     4\n1      4\n22     4\n10     3\n35     2\n37     1\n13     1\n29     1\n9      1\n30     1\n7      1\n31     1\n33     1\n34     1\n36     1\n38     1\nName: user_id, dtype: int64"
      ]
     },
     "execution_count": 7,
     "metadata": {},
     "output_type": "execute_result"
    }
   ],
   "source": [
    "common[\"user_id\"].value_counts()\n",
    "\n",
    "## So many user_ids with only one entry? \n",
    "## Some of these should be removed => Can't be done without knowing the names. "
   ]
  },
  {
   "cell_type": "code",
   "execution_count": 8,
   "metadata": {},
   "outputs": [],
   "source": [
    "hungry_level_1 = common.loc[common[\"hungry\"] == '1', [\"res_number\", \"res_reaction\", \"res_visual\"]]\n",
    "hungry_level_3 = common.loc[common[\"hungry\"] == '3', [\"res_number\", \"res_reaction\", \"res_visual\"]]"
   ]
  },
  {
   "cell_type": "code",
   "execution_count": 10,
   "metadata": {},
   "outputs": [
    {
     "data": {
      "image/png": "[encoded data removed]",
      "text/plain": [
       "<Figure size 1008x324 with 3 Axes>"
      ]
     },
     "metadata": {},
     "output_type": "display_data"
    }
   ],
   "source": [
    "def draw_bar_plot(plot, title, x_axis_list, y_axis_list):\n",
    "    plot.set_title(title)\n",
    "\n",
    "    for i in range(0, len(x_axis_list)):\n",
    "        plot.bar(x_axis_list[i], y_axis_list[i], align = \"center\")\n",
    "        \n",
    "        \n",
    "fig, (plt1, plt2, plt3) = plt.subplots(1, 3, figsize = (14, 4.5)) \n",
    "\n",
    "draw_bar_plot(plt1, \"res_number\", ['1', '3'], [round(hungry_level_1[\"res_number\"].mean(), 2), round(hungry_level_3[\"res_number\"].mean(), 2)])\n",
    "draw_bar_plot(plt2, \"res_reaction\", ['1', '3'],  [round(hungry_level_1[\"res_reaction\"].mean(), 2), round(hungry_level_3[\"res_reaction\"].mean(), 2)])\n",
    "draw_bar_plot(plt3, \"res_visual\", ['1', '3'], [round(hungry_level_1[\"res_visual\"].mean(), 2), round(hungry_level_3[\"res_visual\"].mean(), 2)])"
   ]
  },
  {
   "cell_type": "markdown",
   "metadata": {},
   "source": [
    "### Add time from wakeup"
   ]
  },
  {
   "cell_type": "code",
   "execution_count": 11,
   "metadata": {},
   "outputs": [
    {
     "name": "stderr",
     "output_type": "stream",
     "text": [
      "C:\\Projects\\libs\\Anaconda3\\lib\\site-packages\\statsmodels\\compat\\pandas.py:56: FutureWarning: The pandas.core.datetools module is deprecated and will be removed in a future version. Please use the pandas.tseries module instead.\n  from pandas.core import datetools\n"
     ]
    }
   ],
   "source": [
    "import statsmodels.api as sm\n",
    "from statsmodels.formula.api import ols"
   ]
  },
  {
   "cell_type": "code",
   "execution_count": 12,
   "metadata": {},
   "outputs": [],
   "source": [
    "ts_wake = common.ts.apply(lambda x: x.replace(hour=0, minute=0, second=0)) + common.time_wake\n",
    "common[\"awake_delta\"] = (common.ts - ts_wake) / np.timedelta64(1, 's')"
   ]
  },
  {
   "cell_type": "code",
   "execution_count": 13,
   "metadata": {},
   "outputs": [
    {
     "data": {
      "text/html": [
       "<table class=\"simpletable\">\n",
       "<caption>OLS Regression Results</caption>\n",
       "<tr>\n",
       "  <th>Dep. Variable:</th>       <td>res_number</td>    <th>  R-squared:         </th> <td>   0.031</td>\n",
       "</tr>\n",
       "<tr>\n",
       "  <th>Model:</th>                   <td>OLS</td>       <th>  Adj. R-squared:    </th> <td>  -0.025</td>\n",
       "</tr>\n",
       "<tr>\n",
       "  <th>Method:</th>             <td>Least Squares</td>  <th>  F-statistic:       </th> <td>  0.5575</td>\n",
       "</tr>\n",
       "<tr>\n",
       "  <th>Date:</th>             <td>Wed, 16 Jan 2019</td> <th>  Prob (F-statistic):</th>  <td> 0.896</td> \n",
       "</tr>\n",
       "<tr>\n",
       "  <th>Time:</th>                 <td>14:11:47</td>     <th>  Log-Likelihood:    </th> <td> -497.80</td>\n",
       "</tr>\n",
       "<tr>\n",
       "  <th>No. Observations:</th>      <td>   260</td>      <th>  AIC:               </th> <td>   1026.</td>\n",
       "</tr>\n",
       "<tr>\n",
       "  <th>Df Residuals:</th>          <td>   245</td>      <th>  BIC:               </th> <td>   1079.</td>\n",
       "</tr>\n",
       "<tr>\n",
       "  <th>Df Model:</th>              <td>    14</td>      <th>                     </th>     <td> </td>   \n",
       "</tr>\n",
       "<tr>\n",
       "  <th>Covariance Type:</th>      <td>nonrobust</td>    <th>                     </th>     <td> </td>   \n",
       "</tr>\n",
       "</table>\n",
       "<table class=\"simpletable\">\n",
       "<tr>\n",
       "            <td></td>               <th>coef</th>     <th>std err</th>      <th>t</th>      <th>P>|t|</th>  <th>[0.025</th>    <th>0.975]</th>  \n",
       "</tr>\n",
       "<tr>\n",
       "  <th>Intercept</th>             <td>    8.4478</td> <td>    0.297</td> <td>   28.414</td> <td> 0.000</td> <td>    7.862</td> <td>    9.033</td>\n",
       "</tr>\n",
       "<tr>\n",
       "  <th>hungry[T.2]</th>           <td>   -0.0386</td> <td>    0.278</td> <td>   -0.139</td> <td> 0.890</td> <td>   -0.585</td> <td>    0.508</td>\n",
       "</tr>\n",
       "<tr>\n",
       "  <th>hungry[T.3]</th>           <td>    0.2513</td> <td>    0.357</td> <td>    0.704</td> <td> 0.482</td> <td>   -0.452</td> <td>    0.954</td>\n",
       "</tr>\n",
       "<tr>\n",
       "  <th>hungry[T.4]</th>           <td>    0.7062</td> <td>    0.431</td> <td>    1.639</td> <td> 0.102</td> <td>   -0.142</td> <td>    1.555</td>\n",
       "</tr>\n",
       "<tr>\n",
       "  <th>hungry[T.5]</th>           <td>    0.6944</td> <td>    1.213</td> <td>    0.572</td> <td> 0.568</td> <td>   -1.695</td> <td>    3.084</td>\n",
       "</tr>\n",
       "<tr>\n",
       "  <th>sleepy[T.2]</th>           <td>    0.0714</td> <td>    0.357</td> <td>    0.200</td> <td> 0.842</td> <td>   -0.632</td> <td>    0.775</td>\n",
       "</tr>\n",
       "<tr>\n",
       "  <th>sleepy[T.3]</th>           <td>    0.2237</td> <td>    0.360</td> <td>    0.621</td> <td> 0.535</td> <td>   -0.486</td> <td>    0.933</td>\n",
       "</tr>\n",
       "<tr>\n",
       "  <th>sleepy[T.4]</th>           <td>    0.0449</td> <td>    0.380</td> <td>    0.118</td> <td> 0.906</td> <td>   -0.703</td> <td>    0.793</td>\n",
       "</tr>\n",
       "<tr>\n",
       "  <th>sleepy[T.5]</th>           <td>    0.1312</td> <td>    0.485</td> <td>    0.270</td> <td> 0.787</td> <td>   -0.824</td> <td>    1.086</td>\n",
       "</tr>\n",
       "<tr>\n",
       "  <th>stress[T.2]</th>           <td>   -0.3306</td> <td>    0.262</td> <td>   -1.263</td> <td> 0.208</td> <td>   -0.846</td> <td>    0.185</td>\n",
       "</tr>\n",
       "<tr>\n",
       "  <th>stress[T.3]</th>           <td>   -0.2346</td> <td>    0.353</td> <td>   -0.665</td> <td> 0.507</td> <td>   -0.930</td> <td>    0.460</td>\n",
       "</tr>\n",
       "<tr>\n",
       "  <th>stress[T.4]</th>           <td>   -0.0694</td> <td>    0.347</td> <td>   -0.200</td> <td> 0.842</td> <td>   -0.753</td> <td>    0.614</td>\n",
       "</tr>\n",
       "<tr>\n",
       "  <th>stress[T.5]</th>           <td>   -1.8642</td> <td>    1.237</td> <td>   -1.507</td> <td> 0.133</td> <td>   -4.302</td> <td>    0.573</td>\n",
       "</tr>\n",
       "<tr>\n",
       "  <th>fatigue_mental[T.Yes]</th> <td>    0.1900</td> <td>    0.260</td> <td>    0.732</td> <td> 0.465</td> <td>   -0.321</td> <td>    0.701</td>\n",
       "</tr>\n",
       "<tr>\n",
       "  <th>awake_delta</th>           <td>-1.062e-06</td> <td> 4.94e-06</td> <td>   -0.215</td> <td> 0.830</td> <td>-1.08e-05</td> <td> 8.68e-06</td>\n",
       "</tr>\n",
       "</table>\n",
       "<table class=\"simpletable\">\n",
       "<tr>\n",
       "  <th>Omnibus:</th>       <td> 8.022</td> <th>  Durbin-Watson:     </th> <td>   1.952</td>\n",
       "</tr>\n",
       "<tr>\n",
       "  <th>Prob(Omnibus):</th> <td> 0.018</td> <th>  Jarque-Bera (JB):  </th> <td>   9.434</td>\n",
       "</tr>\n",
       "<tr>\n",
       "  <th>Skew:</th>          <td>-0.281</td> <th>  Prob(JB):          </th> <td> 0.00894</td>\n",
       "</tr>\n",
       "<tr>\n",
       "  <th>Kurtosis:</th>      <td> 3.744</td> <th>  Cond. No.          </th> <td>3.61e+05</td>\n",
       "</tr>\n",
       "</table>"
      ],
      "text/plain": [
       "<table class=\"simpletable\">\n",
       "<caption>OLS Regression Results</caption>\n",
       "<tr>\n",
       "  <th>Dep. Variable:</th>       <td>res_number</td>    <th>  R-squared:         </th> <td>   0.031</td>\n",
       "</tr>\n",
       "<tr>\n",
       "  <th>Model:</th>                   <td>OLS</td>       <th>  Adj. R-squared:    </th> <td>  -0.025</td>\n",
       "</tr>\n",
       "<tr>\n",
       "  <th>Method:</th>             <td>Least Squares</td>  <th>  F-statistic:       </th> <td>  0.5575</td>\n",
       "</tr>\n",
       "<tr>\n",
       "  <th>Date:</th>             <td>Wed, 16 Jan 2019</td> <th>  Prob (F-statistic):</th>  <td> 0.896</td> \n",
       "</tr>\n",
       "<tr>\n",
       "  <th>Time:</th>                 <td>14:11:47</td>     <th>  Log-Likelihood:    </th> <td> -497.80</td>\n",
       "</tr>\n",
       "<tr>\n",
       "  <th>No. Observations:</th>      <td>   260</td>      <th>  AIC:               </th> <td>   1026.</td>\n",
       "</tr>\n",
       "<tr>\n",
       "  <th>Df Residuals:</th>          <td>   245</td>      <th>  BIC:               </th> <td>   1079.</td>\n",
       "</tr>\n",
       "<tr>\n",
       "  <th>Df Model:</th>              <td>    14</td>      <th>                     </th>     <td> </td>   \n",
       "</tr>\n",
       "<tr>\n",
       "  <th>Covariance Type:</th>      <td>nonrobust</td>    <th>                     </th>     <td> </td>   \n",
       "</tr>\n",
       "</table>\n",
       "<table class=\"simpletable\">\n",
       "<tr>\n",
       "            <td></td>               <th>coef</th>     <th>std err</th>      <th>t</th>      <th>P>|t|</th>  <th>[0.025</th>    <th>0.975]</th>  \n",
       "</tr>\n",
       "<tr>\n",
       "  <th>Intercept</th>             <td>    8.4478</td> <td>    0.297</td> <td>   28.414</td> <td> 0.000</td> <td>    7.862</td> <td>    9.033</td>\n",
       "</tr>\n",
       "<tr>\n",
       "  <th>hungry[T.2]</th>           <td>   -0.0386</td> <td>    0.278</td> <td>   -0.139</td> <td> 0.890</td> <td>   -0.585</td> <td>    0.508</td>\n",
       "</tr>\n",
       "<tr>\n",
       "  <th>hungry[T.3]</th>           <td>    0.2513</td> <td>    0.357</td> <td>    0.704</td> <td> 0.482</td> <td>   -0.452</td> <td>    0.954</td>\n",
       "</tr>\n",
       "<tr>\n",
       "  <th>hungry[T.4]</th>           <td>    0.7062</td> <td>    0.431</td> <td>    1.639</td> <td> 0.102</td> <td>   -0.142</td> <td>    1.555</td>\n",
       "</tr>\n",
       "<tr>\n",
       "  <th>hungry[T.5]</th>           <td>    0.6944</td> <td>    1.213</td> <td>    0.572</td> <td> 0.568</td> <td>   -1.695</td> <td>    3.084</td>\n",
       "</tr>\n",
       "<tr>\n",
       "  <th>sleepy[T.2]</th>           <td>    0.0714</td> <td>    0.357</td> <td>    0.200</td> <td> 0.842</td> <td>   -0.632</td> <td>    0.775</td>\n",
       "</tr>\n",
       "<tr>\n",
       "  <th>sleepy[T.3]</th>           <td>    0.2237</td> <td>    0.360</td> <td>    0.621</td> <td> 0.535</td> <td>   -0.486</td> <td>    0.933</td>\n",
       "</tr>\n",
       "<tr>\n",
       "  <th>sleepy[T.4]</th>           <td>    0.0449</td> <td>    0.380</td> <td>    0.118</td> <td> 0.906</td> <td>   -0.703</td> <td>    0.793</td>\n",
       "</tr>\n",
       "<tr>\n",
       "  <th>sleepy[T.5]</th>           <td>    0.1312</td> <td>    0.485</td> <td>    0.270</td> <td> 0.787</td> <td>   -0.824</td> <td>    1.086</td>\n",
       "</tr>\n",
       "<tr>\n",
       "  <th>stress[T.2]</th>           <td>   -0.3306</td> <td>    0.262</td> <td>   -1.263</td> <td> 0.208</td> <td>   -0.846</td> <td>    0.185</td>\n",
       "</tr>\n",
       "<tr>\n",
       "  <th>stress[T.3]</th>           <td>   -0.2346</td> <td>    0.353</td> <td>   -0.665</td> <td> 0.507</td> <td>   -0.930</td> <td>    0.460</td>\n",
       "</tr>\n",
       "<tr>\n",
       "  <th>stress[T.4]</th>           <td>   -0.0694</td> <td>    0.347</td> <td>   -0.200</td> <td> 0.842</td> <td>   -0.753</td> <td>    0.614</td>\n",
       "</tr>\n",
       "<tr>\n",
       "  <th>stress[T.5]</th>           <td>   -1.8642</td> <td>    1.237</td> <td>   -1.507</td> <td> 0.133</td> <td>   -4.302</td> <td>    0.573</td>\n",
       "</tr>\n",
       "<tr>\n",
       "  <th>fatigue_mental[T.Yes]</th> <td>    0.1900</td> <td>    0.260</td> <td>    0.732</td> <td> 0.465</td> <td>   -0.321</td> <td>    0.701</td>\n",
       "</tr>\n",
       "<tr>\n",
       "  <th>awake_delta</th>           <td>-1.062e-06</td> <td> 4.94e-06</td> <td>   -0.215</td> <td> 0.830</td> <td>-1.08e-05</td> <td> 8.68e-06</td>\n",
       "</tr>\n",
       "</table>\n",
       "<table class=\"simpletable\">\n",
       "<tr>\n",
       "  <th>Omnibus:</th>       <td> 8.022</td> <th>  Durbin-Watson:     </th> <td>   1.952</td>\n",
       "</tr>\n",
       "<tr>\n",
       "  <th>Prob(Omnibus):</th> <td> 0.018</td> <th>  Jarque-Bera (JB):  </th> <td>   9.434</td>\n",
       "</tr>\n",
       "<tr>\n",
       "  <th>Skew:</th>          <td>-0.281</td> <th>  Prob(JB):          </th> <td> 0.00894</td>\n",
       "</tr>\n",
       "<tr>\n",
       "  <th>Kurtosis:</th>      <td> 3.744</td> <th>  Cond. No.          </th> <td>3.61e+05</td>\n",
       "</tr>\n",
       "</table>"
      ]
     },
     "execution_count": 13,
     "metadata": {},
     "output_type": "execute_result"
    }
   ],
   "source": [
    "# Try an OLS model for awakeness\n",
    "model = ols(\"res_number ~ awake_delta + hungry + sleepy + stress + fatigue_mental\", common).fit()\n",
    "model.summary()"
   ]
  },
  {
   "cell_type": "code",
   "execution_count": 14,
   "metadata": {},
   "outputs": [],
   "source": [
    "fig,plots  = plt.subplots(1,1)\n",
    "fig = sm.graphics.plot_partregress_grid(model, fig=fig)"
   ]
  },
  {
   "cell_type": "code",
   "execution_count": 13,
   "metadata": {},
   "outputs": [
    {
     "ename": "NameError",
     "evalue": "name 'grouped' is not defined",
     "traceback": [
      "\u001b[1;31m---------------------------------------------------------------------------\u001b[0m",
      "\u001b[1;31mNameError\u001b[0m                                 Traceback (most recent call last)",
      "\u001b[1;32m<ipython-input-13-58a2a89fe7b7>\u001b[0m in \u001b[0;36m<module>\u001b[1;34m()\u001b[0m\n\u001b[1;32m----> 1\u001b[1;33m \u001b[0mgrouped\u001b[0m\u001b[1;33m.\u001b[0m\u001b[0mmean\u001b[0m\u001b[1;33m(\u001b[0m\u001b[1;33m)\u001b[0m\u001b[1;33m[\u001b[0m\u001b[1;34m\"res_reaction\"\u001b[0m\u001b[1;33m]\u001b[0m\u001b[1;33m.\u001b[0m\u001b[0munstack\u001b[0m\u001b[1;33m(\u001b[0m\u001b[1;33m)\u001b[0m\u001b[1;33m.\u001b[0m\u001b[0mplot\u001b[0m\u001b[1;33m(\u001b[0m\u001b[1;33m)\u001b[0m\u001b[1;33m\u001b[0m\u001b[0m\n\u001b[0m",
      "\u001b[1;31mNameError\u001b[0m: name 'grouped' is not defined"
     ],
     "output_type": "error"
    }
   ],
   "source": [
    "grouped.mean()[\"res_reaction\"].unstack().plot()"
   ]
  },
  {
   "cell_type": "code",
   "execution_count": 177,
   "metadata": {},
   "outputs": [],
   "source": [
    "import seaborn\n",
    "seaborn.lmplot()"
   ]
  },
  {
   "cell_type": "code",
   "execution_count": null,
   "metadata": {},
   "outputs": [],
   "source": []
  }
 ],
 "metadata": {
  "kernelspec": {
   "display_name": "Python 2",
   "language": "python",
   "name": "python2"
  },
  "language_info": {
   "codemirror_mode": {
    "name": "ipython",
    "version": 2
   },
   "file_extension": ".py",
   "mimetype": "text/x-python",
   "name": "python",
   "nbconvert_exporter": "python",
   "pygments_lexer": "ipython2",
   "version": "2.7.6"
  }
 },
 "nbformat": 4,
 "nbformat_minor": 0
}
