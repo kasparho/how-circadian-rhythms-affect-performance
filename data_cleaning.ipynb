{
 "cells": [
  {
   "cell_type": "code",
   "execution_count": 151,
   "metadata": {
    "collapsed": true
   },
   "outputs": [],
   "source": [
    "from matplotlib import pyplot as plt\n",
    "import pandas as pd\n",
    "import numpy as np\n",
    "%matplotlib inline"
   ]
  },
  {
   "cell_type": "markdown",
   "metadata": {},
   "source": [
    "### Import data"
   ]
  },
  {
   "cell_type": "code",
   "execution_count": 152,
   "metadata": {
    "collapsed": true
   },
   "outputs": [],
   "source": [
    "## Defined functions\n",
    "\n",
    "def convert_drugs(value):\n",
    "    \"\"\"\n",
    "    Clean up weird values for drugs text box\n",
    "    :param value: value to convert\n",
    "    :return: categegorical value\n",
    "    \"\"\"\n",
    "    if value == \"Caffeine (energy drinks/coffee)\" or \\\n",
    "        value == \"Caffeine (energy drinks/coffee), Kohvi on elu, kohvi on armastus :) \" or \\\n",
    "        value == \"Herbal tea\" or value == 'herbal tea' or value == \"tee\":\n",
    "        return \"Caffeine\"\n",
    "    elif value.startswith(\"Ei\") or value == \"No\" or value == \"no\" or value == \"food\" or value == \"sweets\":\n",
    "        return \"No\"\n",
    "    return value\n"
   ]
  },
  {
   "cell_type": "code",
   "execution_count": 153,
   "metadata": {},
   "outputs": [],
   "source": [
    "## Read data in\n",
    "\n",
    "general = pd.read_csv(\"out_general.csv\", names=[\"row\", \"ts\", \"user_id\", \"gender\", \"age\", \"prev_test\", \"pys_activity\", \"sick\", \"pain_general\", \"pain_digest\", \"sleep_regular\"])\n",
    "common = pd.read_csv(\"out_common.csv\", names=[\"ts\", \"user_id\", \"res_number\", \"res_reaction\", \"res_visual\", \"hungry\", \"sleepy\", \"time_sleep\", \"time_wake\", \"stress\",\n",
    "                                              \"fatigue_mental\", \"fatigue_physical\", \"drugs\"], header=0, \n",
    "                     converters={'ts':lambda v: pd.Timestamp(v), \n",
    "                                 'time_sleep':lambda v: pd.to_timedelta(v), \n",
    "                                 'time_wake':lambda v: pd.to_timedelta(v),\n",
    "                                 'drugs': convert_drugs},\n",
    "                     dtype={'hungry':'category', \n",
    "                            'sleepy':'category', \n",
    "                            'stress':'category', \n",
    "                            'fatigue_mental':'category', \n",
    "                            'fatigue_physical':'category'})\n",
    "\n",
    "common[\"drugs\"] = common[\"drugs\"].astype('category')"
   ]
  },
  {
   "cell_type": "code",
   "execution_count": 159,
   "metadata": {},
   "outputs": [],
   "source": [
    "## User related modifications\n",
    "\n",
    "pd.set_option(\"mode.chained_assignment\", None)\n",
    "\n",
    "## Alter user_ids\n",
    "\n",
    "common[\"user_id\"].loc[\n",
    "    (common[\"user_id\"] == 29) | \n",
    "    (common[\"user_id\"] == 33) | \n",
    "    (common[\"user_id\"] == 34) | \n",
    "    (common[\"user_id\"] == 36)\n",
    "    ] = 1\n",
    "    \n",
    "common[\"user_id\"].loc[\n",
    "    (common[\"user_id\"] == 37)\n",
    "    ] = 35\n",
    "    \n",
    "common[\"user_id\"].loc[\n",
    "    (common[\"user_id\"] == 4) |\n",
    "    (common[\"user_id\"] == 7)\n",
    "    ] = 13\n",
    "\n",
    "\n",
    "## Delete not suitable users\n",
    "\n",
    "common = common[\n",
    "    (common[\"user_id\"] != 9) &\n",
    "    (common[\"user_id\"] != 10) &\n",
    "    (common[\"user_id\"] != 14) &\n",
    "    (common[\"user_id\"] != 18) &\n",
    "    (common[\"user_id\"] != 30) &\n",
    "    (common[\"user_id\"] != 31) &\n",
    "    (common[\"user_id\"] != 38) \n",
    "    ]\n"
   ]
  },
  {
   "cell_type": "code",
   "execution_count": 156,
   "metadata": {
    "collapsed": true
   },
   "outputs": [
    {
     "data": {
      "text/plain": [
       "ts                   datetime64[ns]\nuser_id                       int64\nres_number                    int64\nres_reaction                  int64\nres_visual                    int64\nhungry                     category\nsleepy                     category\ntime_sleep          timedelta64[ns]\ntime_wake           timedelta64[ns]\nstress                     category\nfatigue_mental             category\nfatigue_physical           category\ndrugs                      category\ndtype: object"
      ]
     },
     "execution_count": 156,
     "metadata": {},
     "output_type": "execute_result"
    }
   ],
   "source": [
    "common.dtypes"
   ]
  },
  {
   "cell_type": "markdown",
   "metadata": {},
   "source": [
    "### Add times from waking up"
   ]
  },
  {
   "cell_type": "code",
   "execution_count": 157,
   "metadata": {
    "collapsed": false
   },
   "outputs": [
    {
     "data": {
      "text/plain": [
       "Index(['Alcohol', 'Caffeine', 'No'], dtype='object')"
      ]
     },
     "execution_count": 157,
     "metadata": {},
     "output_type": "execute_result"
    }
   ],
   "source": [
    "common[\"drugs\"].cat.categories"
   ]
  },
  {
   "cell_type": "code",
   "execution_count": 160,
   "metadata": {
    "collapsed": true
   },
   "outputs": [
    {
     "data": {
      "text/plain": [
       "6     17\n11    14\n16    14\n23    14\n2     14\n13    13\n28    12\n15    12\n8     12\n3     12\n12    11\n19    11\n21     9\n24     9\n25     9\n26     9\n27     9\n17     8\n1      8\n20     8\n5      7\n32     5\n22     4\n35     3\nName: user_id, dtype: int64"
      ]
     },
     "execution_count": 160,
     "metadata": {},
     "output_type": "execute_result"
    }
   ],
   "source": [
    "common[\"user_id\"].value_counts()\n",
    "## So many user_ids with only one entry? \n",
    "## Some of these should be removed before => Can't be done without knowing the names. "
   ]
  },
  {
   "cell_type": "code",
   "execution_count": 42,
   "metadata": {},
   "outputs": [],
   "source": [
    "hungry_level_1 = common.loc[common[\"hungry\"] == '1', [\"res_number\", \"res_reaction\", \"res_visual\"]]\n",
    "hungry_level_3 = common.loc[common[\"hungry\"] == '3', [\"res_number\", \"res_reaction\", \"res_visual\"]]"
   ]
  },
  {
   "cell_type": "code",
   "execution_count": 70,
   "metadata": {},
   "outputs": [
    {
     "data": {
      "image/png": "[encoded data removed]",
      "text/plain": [
       "<Figure size 1008x324 with 3 Axes>"
      ]
     },
     "metadata": {},
     "output_type": "display_data"
    }
   ],
   "source": [
    "def draw_bar_plot(plot, title, x_axis_list, y_axis_list):\n",
    "    plot.set_title(title)\n",
    "\n",
    "    for i in range(0, len(x_axis_list)):\n",
    "        plot.bar(x_axis_list[i], y_axis_list[i], align = \"center\")\n",
    "        \n",
    "        \n",
    "fig, (plt1, plt2, plt3) = plt.subplots(1, 3, figsize = (14, 4.5)) \n",
    "\n",
    "draw_bar_plot(plt1, \"res_number\", ['1', '3'], [hungry_level_1[\"res_number\"].mean().round(2), hungry_level_3[\"res_number\"].mean().round(2)])\n",
    "draw_bar_plot(plt2, \"res_reaction\", ['1', '3'],  [hungry_level_1[\"res_reaction\"].mean().round(2), hungry_level_3[\"res_reaction\"].mean().round(2)])\n",
    "draw_bar_plot(plt3, \"res_visual\", ['1', '3'], [hungry_level_1[\"res_visual\"].mean().round(2), hungry_level_3[\"res_visual\"].mean().round(2)])"
   ]
  },
  {
   "cell_type": "code",
   "execution_count": 38,
   "metadata": {},
   "outputs": [],
   "source": []
  },
  {
   "cell_type": "code",
   "execution_count": null,
   "metadata": {},
   "outputs": [],
   "source": []
  }
 ],
 "metadata": {
  "kernelspec": {
   "display_name": "Python 2",
   "language": "python",
   "name": "python2"
  },
  "language_info": {
   "codemirror_mode": {
    "name": "ipython",
    "version": 2
   },
   "file_extension": ".py",
   "mimetype": "text/x-python",
   "name": "python",
   "nbconvert_exporter": "python",
   "pygments_lexer": "ipython2",
   "version": "2.7.6"
  }
 },
 "nbformat": 4,
 "nbformat_minor": 0
}
