{
 "cells": [
  {
   "cell_type": "code",
   "execution_count": 2,
   "metadata": {},
   "outputs": [],
   "source": [
    "from matplotlib import pyplot as plt\n",
    "import pandas as pd\n",
    "import numpy as np\n",
    "%matplotlib inline"
   ]
  },
  {
   "cell_type": "markdown",
   "metadata": {},
   "source": [
    "### Read and manipulate data"
   ]
  },
  {
   "cell_type": "code",
   "execution_count": null,
   "metadata": {
    "lines_to_next_cell": 2
   },
   "outputs": [],
   "source": [
    "## Defined functions\n",
    "\n",
    "def convert_drugs(value):\n",
    "    \"\"\"\n",
    "    Clean up weird values for drugs text box\n",
    "    :param value: value to convert\n",
    "    :return: categegorical value\n",
    "    \"\"\"\n",
    "    if value == \"Caffeine (energy drinks/coffee)\" or \\\n",
    "        value == \"Caffeine (energy drinks/coffee), Kohvi on elu, kohvi on armastus :) \" or \\\n",
    "        value == \"Herbal tea\" or value == 'herbal tea' or value == \"tee\":\n",
    "        return \"Caffeine\"\n",
    "    elif value.startswith(\"Ei\") or value == \"No\" or value == \"no\" or value == \"food\" or value == \"sweets\":\n",
    "        return \"No\"\n",
    "    return value\n",
    "\n",
    "\n",
    "def merge_ids(id, *other_ids):\n",
    "    for other_id in other_ids:\n",
    "        common[\"user_id\"].loc[common[\"user_id\"] == other_id] = id\n",
    "        general.rename(index={other_id: id}, inplace=True)\n",
    "\n",
    "\n",
    "def remove_users(ids):\n",
    "    global common, general\n",
    "    for i in ids:\n",
    "        common = common[common[\"user_id\"] != i]\n",
    "        general.drop(i, inplace=True, errors=\"ignore\")\n",
    "\n",
    "def change_hunger_level(to_level, *from_level):\n",
    "    for level in from_level:\n",
    "        common[\"hungry\"].loc[common[\"hungry\"] == level] = to_level"
   ]
  },
  {
   "cell_type": "code",
   "execution_count": null,
   "metadata": {
    "lines_to_next_cell": 2
   },
   "outputs": [],
   "source": [
    "## Read data in\n",
    "\n",
    "general = pd.read_csv(\"out_general.csv\", names=[\"row\", \"ts\", \"user_id\", \"gender\", \"age\", \"prev_test\", \"pys_activity\", \"sick\", \"pain_general\", \"pain_digest\", \"sleep_regular\"], \n",
    "                     usecols=[\"user_id\", \"gender\", \"age\", \"prev_test\", \"pys_activity\", \"sick\", \"pain_general\", \"pain_digest\", \"sleep_regular\"], \n",
    "                     header=0, \n",
    "                     dtype={'gender':'category', \n",
    "                            'age':'category', \n",
    "                            'prev_test':'category', \n",
    "                            'pys_activity':'category', \n",
    "                            'sick':'category', \n",
    "                            'pain_general':'category', \n",
    "                            'pain_digest':'category', \n",
    "                            'sleep_regular':'category'\n",
    "                           },\n",
    "                      index_col=0)\n",
    "common = pd.read_csv(\"out_common.csv\", names=[\"ts\", \"user_id\", \"res_number\", \"res_reaction\", \"res_visual\", \"hungry\", \"sleepy\", \"time_sleep\", \"time_wake\", \"stress\",\n",
    "                                              \"fatigue_mental\", \"fatigue_physical\", \"drugs\"], header=0, \n",
    "                     converters={'ts':lambda v: pd.Timestamp(v), \n",
    "                                 'time_sleep':lambda v: pd.to_timedelta(v), \n",
    "                                 'time_wake':lambda v: pd.to_timedelta(v),\n",
    "                                 'drugs': convert_drugs},\n",
    "                     dtype={'hungry':'category', \n",
    "                            'sleepy':'category', \n",
    "                            'stress':'category', \n",
    "                            'fatigue_mental':'category', \n",
    "                            'fatigue_physical':'category'})\n",
    "\n",
    "common[\"drugs\"] = common[\"drugs\"].astype('category')\n",
    "common[\"hungry\"] = common[\"hungry\"].cat.add_categories(['3+'])"
   ]
  },
  {
   "cell_type": "code",
   "execution_count": null,
   "metadata": {
    "lines_to_next_cell": 2
   },
   "outputs": [],
   "source": [
    "## Cleanup users\n",
    "\n",
    "## Merge misspelled usernames\n",
    "pd.set_option(\"mode.chained_assignment\", None)\n",
    "\n",
    "merge_ids(1, 29, 33, 34, 36)\n",
    "merge_ids(35, 37)\n",
    "merge_ids(4, 13, 7)\n",
    "merge_ids(17, 41)\n",
    "merge_ids(10, 38)\n",
    "merge_ids(8, 40)\n",
    "merge_ids(18, 45)\n",
    "\n",
    "## Noinspection PyUnreachableCode\n",
    "if True:\n",
    "    ## Remove users with various faults\n",
    "    remove_users([10, 14, 18])\n",
    "\n",
    "    ## Remove sick people\n",
    "    sick_people_ids = general[general[\"sick\"] == \"Yes\"].index\n",
    "    remove_users(sick_people_ids)\n",
    "\n",
    "common = common.reset_index(drop=True)\n",
    "general.sort_index(inplace=True)\n",
    "\n",
    "## Filter people who either failed at filling out general or didn't do any tests\n",
    "empty_ids = set(common.user_id.unique()) ^ set(general.index)\n",
    "remove_users(empty_ids)\n",
    "\n",
    "## Remove people who did less than 4 tests TODO maybe more?\n",
    "test_counts = common[\"user_id\"].value_counts()\n",
    "almost_empty_ids = test_counts[test_counts < 4].index\n",
    "remove_users(almost_empty_ids)\n",
    "\n",
    "## Remove results with too much stress\n",
    "common = common[(common[\"stress\"] != '4') & (common[\"stress\"] != '5')]\n",
    "\n",
    "## Alter hungry level 3 & 4 & 5 to 3+\n",
    "change_hunger_level('3+', '3', '4', '5')"
   ]
  },
  {
   "cell_type": "markdown",
   "metadata": {},
   "source": [
    "## Scores\n",
    "\n",
    "### Visualize scores"
   ]
  },
  {
   "cell_type": "code",
   "execution_count": null,
   "metadata": {},
   "outputs": [],
   "source": [
    "res_columns = [\"res_reaction\", \"res_visual\", \"res_number\"]\n",
    "\n",
    "fig, plots = plt.subplots(1, 3, figsize = (14, 4.5))\n",
    "for column, plot in zip(res_columns, plots):\n",
    "\n",
    "    #common.plot.scatter(x=\"user_id\", y=column, title=column, ax=plot)\n",
    "    common.boxplot(by=\"awake_bin\", column=column, ax=plot)"
   ]
  },
  {
   "cell_type": "code",
   "execution_count": null,
   "metadata": {},
   "outputs": [],
   "source": [
    "test_counts[test_counts >= 9].describe()"
   ]
  },
  {
   "cell_type": "markdown",
   "metadata": {},
   "source": [
    "### Normalize scores"
   ]
  },
  {
   "cell_type": "code",
   "execution_count": null,
   "metadata": {},
   "outputs": [],
   "source": [
    "import warnings\n",
    "from sklearn import preprocessing\n",
    "from sklearn.exceptions import DataConversionWarning\n",
    "\n",
    "# TODO maybe scale logarithmically. reason: table above\n",
    "\n",
    "warnings.filterwarnings(action='ignore', category=DataConversionWarning)\n",
    "\n",
    "for c in res_columns:\n",
    "    scaler = preprocessing.MinMaxScaler()\n",
    "    common[[c]] = scaler.fit_transform(common[[c]])\n",
    "\n",
    "# reaction time is better the smaller it is, so we need to flip it\n",
    "common.res_reaction = 1 - common.res_reaction"
   ]
  },
  {
   "cell_type": "markdown",
   "metadata": {},
   "source": [
    "### Hungry level comparison"
   ]
  },
  {
   "cell_type": "code",
   "execution_count": null,
   "metadata": {},
   "outputs": [],
   "source": [
    "hungry_level_1 = \\\n",
    "    common.loc[common[\"hungry\"] == '1', [\"res_number\", \"res_visual\"]]\n",
    "hungry_level_2 = \\\n",
    "    common.loc[common[\"hungry\"] == '2', [\"res_number\", \"res_visual\"]]\n",
    "hungry_level_3_plus = \\\n",
    "    common.loc[common[\"hungry\"] == '3+', [\"res_number\", \"res_visual\"]]\n",
    "\n",
    "grouped_hungry_subjects = \\\n",
    "    common[[\"user_id\", \"hungry\", \"res_number\", \"res_visual\"]]\\\n",
    "        .groupby([\"user_id\", \"hungry\"]).mean()\\\n",
    "        .groupby(\"hungry\").mean()"
   ]
  },
  {
   "cell_type": "code",
   "execution_count": 9,
   "metadata": {
    "lines_to_next_cell": 2,
    "scrolled": true
   },
   "outputs": [],
   "source": [
    "def draw_bar_plot(plot, title, x_axis_list, y_axis_list):\n",
    "    plot.set_title(title)\n",
    "\n",
    "    for i in range(0, len(x_axis_list)):\n",
    "        plot.bar(x_axis_list[i], y_axis_list[i], align = \"center\")"
   ]
  },
  {
   "cell_type": "code",
   "execution_count": null,
   "metadata": {},
   "outputs": [],
   "source": [
    "## Average results over all entries\n",
    "\n",
    "memory_columns = [\"res_visual\", \"res_number\"]\n",
    "fig, plots = plt.subplots(1, 2, figsize = (14, 4.5))\n",
    "\n",
    "for column, plot in zip(memory_columns, plots):\n",
    "\n",
    "    draw_bar_plot(plot, column, ['1', '2', '3+'], [\n",
    "        round(hungry_level_1[column].mean(), 2),\n",
    "        round(hungry_level_2[column].mean(), 2),\n",
    "        round(hungry_level_3_plus[column].mean(), 2)\n",
    "        ])\n",
    "\n",
    "fig.suptitle(\"Average results\")"
   ]
  },
  {
   "cell_type": "code",
   "execution_count": null,
   "metadata": {},
   "outputs": [],
   "source": [
    "## Average results of averaged subjects results\n",
    "\n",
    "memory_columns = [\"res_visual\", \"res_number\"]\n",
    "fig, plots = plt.subplots(1, 2, figsize = (14, 4.5))\n",
    "\n",
    "for column, plot in zip(memory_columns, plots):\n",
    "\n",
    "    draw_bar_plot(plot, column, ['1', '2', '3+'], [\n",
    "        grouped_hungry_subjects[column][0],\n",
    "        grouped_hungry_subjects[column][1],\n",
    "        grouped_hungry_subjects[column][5]\n",
    "        ])\n",
    "\n",
    "fig.suptitle(\"Average results of averaged subjects results\")"
   ]
  },
  {
   "cell_type": "markdown",
   "metadata": {
    "lines_to_next_cell": 2
   },
   "source": [
    "## Add time from wakeup"
   ]
  },
  {
   "cell_type": "code",
   "execution_count": 12,
   "metadata": {
    "lines_to_next_cell": 2
   },
   "outputs": [],
   "source": [
    "\n",
    "# add awake delta\n",
    "ts_wake = common.ts.apply(lambda x: x.replace(hour=0, minute=0, second=0)) + common.time_wake\n",
    "delta = ((common.ts - ts_wake) + pd.Timedelta(days=1)) % pd.Timedelta(days=1)\n",
    "# common[\"awake_delta\"] = delta / np.timedelta64(1, 's')\n",
    "\n",
    "# bin deltas into 1h boxes\n",
    "#pd.cut(delta)\n",
    "#delta = pd.timedelta_range(start=\"0 hour\" , freq=\"1H\", periods=25, closed=\"right\")\n",
    "common['awake_bin'] = [r.seconds // 3600 + 1 for r in delta]\n",
    "#common\n",
    "\n",
    "# fine best time per person \n",
    "res_df = common[[\"user_id\", \"res_number\", \"res_visual\", \"res_reaction\"]]\n",
    "best = res_df.groupby(\"user_id\").idxmax()\n",
    "\n",
    "assert best.index.all(general.index)\n",
    "for c in res_columns:\n",
    "    bins = common.loc[best[c]][[\"awake_bin\", \"user_id\"]]\n",
    "    bins = bins.set_index(\"user_id\")\n",
    "    general[\"best_\" + c] = bins"
   ]
  },
  {
   "cell_type": "code",
   "execution_count": null,
   "metadata": {},
   "outputs": [],
   "source": [
    "# add sleep time\n",
    "\n",
    "sleep = ((common.time_wake - common.time_sleep) + pd.Timedelta(days=1)) % pd.Timedelta(days=1)\n",
    "common[\"sleep_bin\"] = pd.cut(sleep.dt.seconds, [0, 60*60*6, 60*60*8, 60*60*24])\n",
    "\n",
    "common.groupby(\"sleep_bin\").mean()"
   ]
  },
  {
   "cell_type": "code",
   "execution_count": 19,
   "metadata": {
    "lines_to_next_cell": 2
   },
   "outputs": [
    {
     "data": {
      "text/plain": [
       "<matplotlib.axes._subplots.AxesSubplot at 0x24f346db438>"
      ]
     },
     "execution_count": 19,
     "metadata": {},
     "output_type": "execute_result"
    },
    {
     "data": {
      "image/png": "[encoded data removed]",
      "text/plain": [
       "<Figure size 432x288 with 1 Axes>"
      ]
     },
     "metadata": {},
     "output_type": "display_data"
    }
   ],
   "source": [
    "# Andrews Curves\n",
    "from pandas.plotting import andrews_curves\n",
    "\n",
    "\n",
    "#long_res = pd.wide_to_long(res, \"res\", i=\"id\", j=\"game_type\", suffix=\"\\w+\", sep=\"_\").reset_index()\n",
    "\n",
    "#del long_res[\"id\"]\n",
    "#means = long_res.groupby([\"user_id\", \"game_type\"]).mean().reset_index()\n",
    "#del means[\"user_id\"]\n",
    "\n",
    "andrews_curves(res_df, \"user_id\")\n",
    "\n",
    "#fig, plots = plt.subplots(1, 3, figsize = (14, 4.5))\n",
    "\n",
    "#for column,plot in zip(columns,plots) :\n",
    "    #res[column].plot.bar(ax=plot)"
   ]
  },
  {
   "cell_type": "code",
   "execution_count": null,
   "metadata": {},
   "outputs": [],
   "source": [
    "# Learning model space\n",
    "data = common.drop(\"ts\", axis=1).join(general, on=\"user_id\").drop(labels=[\"user_id\", \"time_sleep\", \"time_wake\"], axis=1)\n",
    "one_hotted = pd.get_dummies(data, drop_first=True)\n",
    "\n"
   ]
  },
  {
   "cell_type": "code",
   "execution_count": null,
   "metadata": {
    "lines_to_next_cell": 0
   },
   "outputs": [],
   "source": [
    "from sklearn.manifold import TSNE\n",
    "from sklearn.cluster import KMeans\n",
    "from sklearn.model_selection import train_test_split\n",
    "from sklearn.preprocessing import StandardScaler"
   ]
  },
  {
   "cell_type": "code",
   "execution_count": null,
   "metadata": {},
   "outputs": [],
   "source": [
    "# Unsupervised learning\n",
    "\n",
    "# fit clustering\n",
    "X = one_hotted.drop([\"best_res_reaction\", \"best_res_visual\", \"best_res_number\"], axis=1)\n",
    "y = one_hotted[[\"best_res_reaction\", \"best_res_visual\", \"best_res_number\"]]\n",
    "\n",
    "scaler = StandardScaler()\n",
    "X = scaler.fit_transform(X)\n",
    "db = KMeans(n_clusters=16).fit(X)\n",
    "# test clustering\n",
    "# for each cluster\n",
    "y[\"cluster\"] = db.labels_\n",
    "    # => assume cluster has better accuracy\n",
    "    #    use best of cluster??\n",
    "\n",
    "yy = pd.crosstab(y.cluster, [y.best_res_reaction, y.best_res_number, y.best_res_visual])\n",
    "\n"
   ]
  },
  {
   "cell_type": "code",
   "execution_count": null,
   "metadata": {},
   "outputs": [],
   "source": [
    "def get_prediction(me = None):\n",
    "\n",
    "    if not me:\n",
    "        me = {'res_number': 7, 'res_reaction': 289, 'res_visual':16280, 'hungry': '2','sleepy':'2', 'stressed':'2', 'fatigue_mental':'Yes', 'stress':'2',\n",
    "       'fatigue_physical':'No physical activity', 'drugs':'No', 'awake_bin':7, 'gender':'Male', 'age': '18 - 30', 'prev_test': 'Yes', 'pys_activity': '1 - 4h per week', 'sick': 'No', 'pain_general':'1', 'pain_digest': 'No', 'sleep_regular':\"The time of falling asleep differs from yesterdays' between 1h and 4h.\"}\n",
    "\n",
    "    for k,v in me.items():\n",
    "        me[k] = [v]\n",
    "\n",
    "    df_me = pd.DataFrame.from_dict(me)\n",
    "\n",
    "    cats = data.dtypes[data.dtypes == 'category']\n",
    "    df_me[cats.index] = df_me[cats.index].astype(cats)\n",
    "\n",
    "    one_me = pd.get_dummies(df_me, drop_first=True)\n",
    "\n",
    "    trs_me = scaler.transform(one_me)\n",
    "    cluster = db.predict(trs_me)[0]\n",
    "    return yy.loc[cluster].idxmax()"
   ]
  },
  {
   "cell_type": "code",
   "execution_count": 9,
   "metadata": {
    "lines_to_next_cell": 2
   },
   "outputs": [],
   "source": [
    "import statsmodels.api as sm\n",
    "from statsmodels.formula.api import ols"
   ]
  },
  {
   "cell_type": "code",
   "execution_count": null,
   "metadata": {},
   "outputs": [],
   "source": [
    "# TODO use this to later correct for learning\n",
    "model = ols(\"res_visual ~ awake_bin\", common).fit()\n",
    "model.summary()"
   ]
  },
  {
   "cell_type": "code",
   "execution_count": null,
   "metadata": {},
   "outputs": [],
   "source": [
    "fig,plots  = plt.subplots(1,1)\n",
    "fig = sm.graphics.plot_partregress_grid(model, fig=fig)"
   ]
  },
  {
   "cell_type": "markdown",
   "metadata": {},
   "source": [
    "### Effects of caffeine on reaction time"
   ]
  },
  {
   "cell_type": "code",
   "execution_count": null,
   "metadata": {},
   "outputs": [],
   "source": [
    "df = pd.DataFrame(common.res_reaction)\n",
    "df[\"cof\"] = common.drugs\n",
    "caffeine = df.loc[df['cof'] == \"Caffeine\"].res_reaction.mean()\n",
    "mean_all = df.res_reaction.mean()\n",
    "without = df.loc[df['cof'] != \"Caffeine\"].res_reaction.mean()\n",
    "print(\"Average reaction time after caffeine consumption: \", caffeine)\n",
    "print(\"Overall average reaction time: \", mean_all)\n",
    "print(\"Average reaction time without caffeine consumption: \", without)"
   ]
  },
  {
   "cell_type": "code",
   "execution_count": null,
   "metadata": {},
   "outputs": [],
   "source": [
    "objects = (\"Caffeine consumption\", \"No caffeine consumption\")\n",
    "performance = [caffeine, without]\n",
    "plt.bar(objects, performance, align='center', alpha=0.5)\n",
    "plt.xlabel(\"Caffeine\")\n",
    "plt.ylabel(\"Average reaction time in ms\")\n",
    "plt.title(\"Effects of caffeine consumption on reaction time\")\n",
    "plt.show()"
   ]
  },
  {
   "cell_type": "code",
   "execution_count": null,
   "metadata": {},
   "outputs": [],
   "source": [
    "from scipy import stats\n",
    "caf = df.loc[df['cof'] == \"Caffeine\"].res_reaction\n",
    "no_caf = df.loc[df['cof'] != \"Caffeine\"].res_reaction\n",
    "stats.ttest_ind(caf, no_caf)"
   ]
  },
  {
   "cell_type": "markdown",
   "metadata": {},
   "source": [
    "### Effects of intensive mental work on test results"
   ]
  },
  {
   "cell_type": "code",
   "execution_count": null,
   "metadata": {},
   "outputs": [],
   "source": [
    "grouped_ment_subjects = \\\n",
    "    common[[\"user_id\", \"fatigue_mental\", \"res_number\", \"res_visual\", \"res_reaction\"]]\\\n",
    "        .groupby([\"user_id\", \"fatigue_mental\"]).mean()\\\n",
    "        .groupby(\"fatigue_mental\").mean()\n",
    "grouped_ment_subjects"
   ]
  },
  {
   "cell_type": "code",
   "execution_count": null,
   "metadata": {},
   "outputs": [],
   "source": [
    "val_columns = [\"res_visual\", \"res_number\", \"res_reaction\"]\n",
    "fig, plots = plt.subplots(1, 3, figsize = (14, 4.5))\n",
    "\n",
    "for column, plot in zip(val_columns, plots):\n",
    "\n",
    "    draw_bar_plot(plot, column, ['No mental work\\nbefore tests', 'Mental work\\nbefore tests'], [\n",
    "        grouped_ment_subjects[column][0],\n",
    "        grouped_ment_subjects[column][1]\n",
    "        ])"
   ]
  },
  {
   "cell_type": "code",
   "execution_count": null,
   "metadata": {},
   "outputs": [],
   "source": [
    "df = pd.DataFrame(common)\n",
    "act_y = df.loc[df['fatigue_mental'] == \"Yes\"].res_reaction\n",
    "no_act = df.loc[df['fatigue_mental'] == \"No\"].res_reaction\n",
    "stats.ttest_ind(act_y, no_act)"
   ]
  },
  {
   "cell_type": "markdown",
   "metadata": {},
   "source": [
    "### Effects of physical activity on test results"
   ]
  },
  {
   "cell_type": "code",
   "execution_count": null,
   "metadata": {},
   "outputs": [],
   "source": [
    "grouped_act_subjects = \\\n",
    "    common[[\"user_id\", \"fatigue_physical\", \"res_number\", \"res_visual\", \"res_reaction\"]]\\\n",
    "        .groupby([\"user_id\", \"fatigue_physical\"]).mean()\\\n",
    "        .groupby(\"fatigue_physical\").mean()\n",
    "grouped_act_subjects"
   ]
  },
  {
   "cell_type": "code",
   "execution_count": null,
   "metadata": {},
   "outputs": [],
   "source": [
    "act_columns = [\"res_visual\", \"res_number\", \"res_reaction\"]\n",
    "fig, plots = plt.subplots(1, 3, figsize = (14, 4.5))\n",
    "\n",
    "for column, plot in zip(act_columns, plots):\n",
    "\n",
    "    draw_bar_plot(plot, column, ['No activity', 'Light activity', 'Workout'], [\n",
    "        grouped_act_subjects[column][2],\n",
    "        grouped_act_subjects[column][1],\n",
    "        grouped_act_subjects[column][0]\n",
    "        ])"
   ]
  },
  {
   "cell_type": "code",
   "execution_count": null,
   "metadata": {},
   "outputs": [],
   "source": [
    "df = pd.DataFrame(common)\n",
    "#1. reaction time\n",
    "light = df.loc[df['fatigue_physical'] == \"Light activity (walking, cleaning etc.)\"].res_reaction\n",
    "no_act = df.loc[df['fatigue_physical'] != \"No physical activity\"].res_reaction\n",
    "light_rt = stats.ttest_ind(light, no_act)\n",
    "\n",
    "#2. number memory\n",
    "light2 = df.loc[df['fatigue_physical'] == \"Light activity (walking, cleaning etc.)\"].res_number\n",
    "no_act2 = df.loc[df['fatigue_physical'] != \"No physical activity\"].res_number\n",
    "light_nr = stats.ttest_ind(light2, no_act2)\n",
    "\n",
    "#3. visual memory\n",
    "light3 = df.loc[df['fatigue_physical'] == \"Light activity (walking, cleaning etc.)\"].res_visual\n",
    "no_act3 = df.loc[df['fatigue_physical'] != \"No physical activity\"].res_visual\n",
    "light_vis = stats.ttest_ind(light3, no_act3)\n",
    "\n",
    "print(\"Light - reaction: \", light_rt)\n",
    "print(\"Light - number: \", light_nr)\n",
    "print(\"Light - visual: \", light_vis)\n",
    "\n",
    "#1. reaction time\n",
    "intens = df.loc[df['fatigue_physical'] == \"I've had an intensive workout\"].res_reaction\n",
    "int_rt = stats.ttest_ind(intens, no_act)\n",
    "\n",
    "#2. number memory\n",
    "intens2 = df.loc[df['fatigue_physical'] == \"I've had an intensive workout\"].res_number\n",
    "int_nr = stats.ttest_ind(intens2, no_act2)\n",
    "\n",
    "#3. visual memory\n",
    "intens3 = df.loc[df['fatigue_physical'] == \"I've had an intensive workout\"].res_visual\n",
    "int_vis = stats.ttest_ind(intens3, no_act3)\n",
    "\n",
    "print(\"INtensive - reaction: \", int_rt)\n",
    "print(\"Intensive - number: \", int_nr)\n",
    "print(\"Intensive - visual: \", int_vis)"
   ]
  },
  {
   "cell_type": "code",
   "execution_count": null,
   "metadata": {
    "lines_to_next_cell": 2
   },
   "outputs": [],
   "source": []
  }
 ],
 "metadata": {
  "jupytext": {
   "text_representation": {
    "extension": ".py",
    "format_name": "percent",
    "format_version": "1.1",
    "jupytext_version": "0.8.3"
   }
  },
  "kernelspec": {
   "display_name": "Python 3",
   "language": "python",
   "name": "python3"
  },
  "language_info": {
   "codemirror_mode": {
    "name": "ipython",
    "version": 3
   },
   "file_extension": ".py",
   "mimetype": "text/x-python",
   "name": "python",
   "nbconvert_exporter": "python",
   "pygments_lexer": "ipython3",
   "version": "3.5.4"
  }
 },
 "nbformat": 4,
 "nbformat_minor": 2
}
